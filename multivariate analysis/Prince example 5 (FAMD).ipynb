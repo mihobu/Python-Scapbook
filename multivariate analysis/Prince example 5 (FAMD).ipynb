{
 "cells": [
  {
   "cell_type": "markdown",
   "metadata": {},
   "source": [
    "### Factor Analysis of Mixed Data (FAMD) using Prince\n",
    "This example is taken from the [Prince website](https://github.com/MaxHalford/Prince).\n",
    "\n",
    "We use FAMD when we have grouped data described by both quantitative and\n",
    "qualitative variables. Roughly speaking, FAMD combines PCA for the quantitative\n",
    "variables and MCA for the qualitative variables.\n",
    "\n",
    "The example in this notebook uses the wine data from [a paper called\n",
    "\"Multiple Factor Analysis (MFA)\"](https://www.utdallas.edu/~herve/Abdi-MFA2007-pretty.pdf), by Abdi and Valentin. Three experts gave their opinion on six different wines. Each opinion for each wine is recorded as a variable. We thus want to consider the separate opinions of each expert whilst also having a global overview of each wine. MFA is the perfect fit for this kind of situation."
   ]
  },
  {
   "cell_type": "code",
   "execution_count": 1,
   "metadata": {
    "collapsed": true
   },
   "outputs": [],
   "source": [
    "import pandas as pd\n",
    "from prince import FAMD\n",
    "import matplotlib.pyplot as plt"
   ]
  },
  {
   "cell_type": "code",
   "execution_count": 2,
   "metadata": {
    "collapsed": false
   },
   "outputs": [
    {
     "data": {
      "text/html": [
       "<div>\n",
       "<style scoped>\n",
       "    .dataframe tbody tr th:only-of-type {\n",
       "        vertical-align: middle;\n",
       "    }\n",
       "\n",
       "    .dataframe tbody tr th {\n",
       "        vertical-align: top;\n",
       "    }\n",
       "\n",
       "    .dataframe thead th {\n",
       "        text-align: right;\n",
       "    }\n",
       "</style>\n",
       "<table border=\"1\" class=\"dataframe\">\n",
       "  <thead>\n",
       "    <tr style=\"text-align: right;\">\n",
       "      <th></th>\n",
       "      <th>Oak type</th>\n",
       "      <th>E1 fruity</th>\n",
       "      <th>E1 woody</th>\n",
       "      <th>E1 coffee</th>\n",
       "      <th>E2 red fruit</th>\n",
       "      <th>E2 roasted</th>\n",
       "      <th>E2 vanillin</th>\n",
       "      <th>E2 woody</th>\n",
       "      <th>E3 fruity</th>\n",
       "      <th>E3 butter</th>\n",
       "      <th>E3 woody</th>\n",
       "    </tr>\n",
       "  </thead>\n",
       "  <tbody>\n",
       "    <tr>\n",
       "      <th>Wine 1</th>\n",
       "      <td>1</td>\n",
       "      <td>A</td>\n",
       "      <td>A</td>\n",
       "      <td>A</td>\n",
       "      <td>2</td>\n",
       "      <td>5</td>\n",
       "      <td>7</td>\n",
       "      <td>6</td>\n",
       "      <td>3</td>\n",
       "      <td>6</td>\n",
       "      <td>7</td>\n",
       "    </tr>\n",
       "    <tr>\n",
       "      <th>Wine 2</th>\n",
       "      <td>2</td>\n",
       "      <td>A</td>\n",
       "      <td>A</td>\n",
       "      <td>A</td>\n",
       "      <td>4</td>\n",
       "      <td>4</td>\n",
       "      <td>4</td>\n",
       "      <td>2</td>\n",
       "      <td>4</td>\n",
       "      <td>4</td>\n",
       "      <td>3</td>\n",
       "    </tr>\n",
       "    <tr>\n",
       "      <th>Wine 3</th>\n",
       "      <td>2</td>\n",
       "      <td>B</td>\n",
       "      <td>A</td>\n",
       "      <td>B</td>\n",
       "      <td>5</td>\n",
       "      <td>2</td>\n",
       "      <td>1</td>\n",
       "      <td>1</td>\n",
       "      <td>7</td>\n",
       "      <td>1</td>\n",
       "      <td>1</td>\n",
       "    </tr>\n",
       "    <tr>\n",
       "      <th>Wine 4</th>\n",
       "      <td>2</td>\n",
       "      <td>B</td>\n",
       "      <td>A</td>\n",
       "      <td>B</td>\n",
       "      <td>7</td>\n",
       "      <td>2</td>\n",
       "      <td>1</td>\n",
       "      <td>2</td>\n",
       "      <td>2</td>\n",
       "      <td>2</td>\n",
       "      <td>2</td>\n",
       "    </tr>\n",
       "    <tr>\n",
       "      <th>Wine 5</th>\n",
       "      <td>1</td>\n",
       "      <td>B</td>\n",
       "      <td>B</td>\n",
       "      <td>B</td>\n",
       "      <td>3</td>\n",
       "      <td>5</td>\n",
       "      <td>6</td>\n",
       "      <td>5</td>\n",
       "      <td>2</td>\n",
       "      <td>6</td>\n",
       "      <td>6</td>\n",
       "    </tr>\n",
       "    <tr>\n",
       "      <th>Wine 6</th>\n",
       "      <td>1</td>\n",
       "      <td>B</td>\n",
       "      <td>B</td>\n",
       "      <td>A</td>\n",
       "      <td>3</td>\n",
       "      <td>5</td>\n",
       "      <td>4</td>\n",
       "      <td>5</td>\n",
       "      <td>1</td>\n",
       "      <td>7</td>\n",
       "      <td>5</td>\n",
       "    </tr>\n",
       "  </tbody>\n",
       "</table>\n",
       "</div>"
      ],
      "text/plain": [
       "        Oak type E1 fruity E1 woody E1 coffee  E2 red fruit  E2 roasted  \\\n",
       "Wine 1         1         A        A         A             2           5   \n",
       "Wine 2         2         A        A         A             4           4   \n",
       "Wine 3         2         B        A         B             5           2   \n",
       "Wine 4         2         B        A         B             7           2   \n",
       "Wine 5         1         B        B         B             3           5   \n",
       "Wine 6         1         B        B         A             3           5   \n",
       "\n",
       "        E2 vanillin  E2 woody  E3 fruity  E3 butter  E3 woody  \n",
       "Wine 1            7         6          3          6         7  \n",
       "Wine 2            4         2          4          4         3  \n",
       "Wine 3            1         1          7          1         1  \n",
       "Wine 4            1         2          2          2         2  \n",
       "Wine 5            6         5          2          6         6  \n",
       "Wine 6            4         5          1          7         5  "
      ]
     },
     "execution_count": 2,
     "metadata": {},
     "output_type": "execute_result"
    }
   ],
   "source": [
    "X = pd.DataFrame(\n",
    "    data=[\n",
    "        [1, 'A', 'A', 'A', 2, 5, 7, 6, 3, 6, 7],\n",
    "        [2, 'A', 'A', 'A', 4, 4, 4, 2, 4, 4, 3],\n",
    "        [2, 'B', 'A', 'B', 5, 2, 1, 1, 7, 1, 1],\n",
    "        [2, 'B', 'A', 'B', 7, 2, 1, 2, 2, 2, 2],\n",
    "        [1, 'B', 'B', 'B', 3, 5, 6, 5, 2, 6, 6],\n",
    "        [1, 'B', 'B', 'A', 3, 5, 4, 5, 1, 7, 5]\n",
    "    ],\n",
    "    columns=[\n",
    "        'Oak type',\n",
    "        'E1 fruity', 'E1 woody', 'E1 coffee',\n",
    "        'E2 red fruit', 'E2 roasted', 'E2 vanillin', 'E2 woody',\n",
    "        'E3 fruity', 'E3 butter', 'E3 woody'],\n",
    "    index=['Wine {}'.format(i+1) for i in range(6)]\n",
    ")\n",
    "X"
   ]
  },
  {
   "cell_type": "code",
   "execution_count": 3,
   "metadata": {
    "collapsed": true
   },
   "outputs": [],
   "source": [
    "famd = FAMD(\n",
    "    n_components=2,\n",
    "    n_iter=3,\n",
    "    copy=True,\n",
    "    engine='auto',\n",
    "    random_state=42\n",
    ")\n",
    "famd = famd.fit(X.drop('Oak type', axis='columns'))  # No need for 'Oak type'"
   ]
  },
  {
   "cell_type": "code",
   "execution_count": 4,
   "metadata": {
    "collapsed": false
   },
   "outputs": [
    {
     "data": {
      "text/html": [
       "<div>\n",
       "<style scoped>\n",
       "    .dataframe tbody tr th:only-of-type {\n",
       "        vertical-align: middle;\n",
       "    }\n",
       "\n",
       "    .dataframe tbody tr th {\n",
       "        vertical-align: top;\n",
       "    }\n",
       "\n",
       "    .dataframe thead th {\n",
       "        text-align: right;\n",
       "    }\n",
       "</style>\n",
       "<table border=\"1\" class=\"dataframe\">\n",
       "  <thead>\n",
       "    <tr style=\"text-align: right;\">\n",
       "      <th></th>\n",
       "      <th>0</th>\n",
       "      <th>1</th>\n",
       "    </tr>\n",
       "  </thead>\n",
       "  <tbody>\n",
       "    <tr>\n",
       "      <th>Wine 1</th>\n",
       "      <td>3.351475</td>\n",
       "      <td>4.278852</td>\n",
       "    </tr>\n",
       "    <tr>\n",
       "      <th>Wine 2</th>\n",
       "      <td>3.396873</td>\n",
       "      <td>4.135743</td>\n",
       "    </tr>\n",
       "    <tr>\n",
       "      <th>Wine 3</th>\n",
       "      <td>4.777638</td>\n",
       "      <td>-1.643254</td>\n",
       "    </tr>\n",
       "    <tr>\n",
       "      <th>Wine 4</th>\n",
       "      <td>4.769714</td>\n",
       "      <td>-1.665251</td>\n",
       "    </tr>\n",
       "    <tr>\n",
       "      <th>Wine 5</th>\n",
       "      <td>3.779385</td>\n",
       "      <td>-3.053543</td>\n",
       "    </tr>\n",
       "    <tr>\n",
       "      <th>Wine 6</th>\n",
       "      <td>3.465413</td>\n",
       "      <td>-0.304409</td>\n",
       "    </tr>\n",
       "  </tbody>\n",
       "</table>\n",
       "</div>"
      ],
      "text/plain": [
       "               0         1\n",
       "Wine 1  3.351475  4.278852\n",
       "Wine 2  3.396873  4.135743\n",
       "Wine 3  4.777638 -1.643254\n",
       "Wine 4  4.769714 -1.665251\n",
       "Wine 5  3.779385 -3.053543\n",
       "Wine 6  3.465413 -0.304409"
      ]
     },
     "execution_count": 4,
     "metadata": {},
     "output_type": "execute_result"
    }
   ],
   "source": [
    "famd.row_coordinates(X)"
   ]
  },
  {
   "cell_type": "code",
   "execution_count": 8,
   "metadata": {
    "collapsed": false
   },
   "outputs": [
    {
     "data": {
      "image/png": "[encoded data removed]",
      "text/plain": [
       "<Figure size 500x500 with 1 Axes>"
      ]
     },
     "metadata": {},
     "output_type": "display_data"
    }
   ],
   "source": [
    "ax = famd.plot_row_coordinates(\n",
    "    X,\n",
    "    ax=None,\n",
    "    x_component=0,\n",
    "    y_component=1,\n",
    "    labels=X.index,\n",
    "    color_labels=['Oak type {}'.format(t) for t in X['Oak type']],\n",
    "    ellipse_outline=False,\n",
    "    ellipse_fill=True,\n",
    "    show_points=True\n",
    ")\n",
    "fig = ax.get_figure()\n",
    "fig.set_figheight(5)\n",
    "fig.set_figwidth(5)\n",
    "fig.set_dpi(100)\n",
    "plt.show()"
   ]
  },
  {
   "cell_type": "code",
   "execution_count": null,
   "metadata": {
    "collapsed": true
   },
   "outputs": [],
   "source": []
  }
 ],
 "metadata": {
  "kernelspec": {
   "display_name": "Python 3",
   "language": "python",
   "name": "python3"
  },
  "language_info": {
   "codemirror_mode": {
    "name": "ipython",
    "version": 3
   },
   "file_extension": ".py",
   "mimetype": "text/x-python",
   "name": "python",
   "nbconvert_exporter": "python",
   "pygments_lexer": "ipython3",
   "version": "3.6.3"
  }
 },
 "nbformat": 4,
 "nbformat_minor": 2
}
