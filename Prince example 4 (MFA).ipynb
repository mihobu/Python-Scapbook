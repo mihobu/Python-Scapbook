{
 "cells": [
  {
   "cell_type": "markdown",
   "metadata": {},
   "source": [
    "### Multiple Factor Analysis (MFA) using Prince\n",
    "This example is taken from the [Prince website](https://github.com/MaxHalford/Prince).\n",
    "\n",
    "Multiple factor analysis (MFA) is meant to be used when you have groups of variables. In practice it builds a PCA on each group -- or an MCA, depending on the types of the group's variables. It then constructs a global PCA on the results of the so-called partial PCAs -- or MCAs.\n",
    "\n",
    "The example in this notebook uses the wine data from [a paper called\n",
    "\"Multiple Factor Analysis (MFA)\"](https://www.utdallas.edu/~herve/Abdi-MFA2007-pretty.pdf), by Abdi and Valentin. Three experts gave their opinion on six different wines. Each opinion for each wine is recorded as a variable. We thus want to consider the separate opinions of each expert whilst also having a global overview of each wine. MFA is the perfect fit for this kind of situation."
   ]
  },
  {
   "cell_type": "code",
   "execution_count": 61,
   "metadata": {
    "collapsed": true
   },
   "outputs": [],
   "source": [
    "import pandas as pd\n",
    "import numpy as np\n",
    "from prince import MFA\n",
    "import matplotlib.pyplot as plt"
   ]
  },
  {
   "cell_type": "code",
   "execution_count": 14,
   "metadata": {
    "collapsed": false
   },
   "outputs": [
    {
     "data": {
      "text/html": [
       "<div>\n",
       "<style scoped>\n",
       "    .dataframe tbody tr th:only-of-type {\n",
       "        vertical-align: middle;\n",
       "    }\n",
       "\n",
       "    .dataframe tbody tr th {\n",
       "        vertical-align: top;\n",
       "    }\n",
       "\n",
       "    .dataframe thead th {\n",
       "        text-align: right;\n",
       "    }\n",
       "</style>\n",
       "<table border=\"1\" class=\"dataframe\">\n",
       "  <thead>\n",
       "    <tr style=\"text-align: right;\">\n",
       "      <th></th>\n",
       "      <th>Oak type</th>\n",
       "      <th>E1 fruity</th>\n",
       "      <th>E1 woody</th>\n",
       "      <th>E1 coffee</th>\n",
       "      <th>E2 red fruit</th>\n",
       "      <th>E2 roasted</th>\n",
       "      <th>E2 vanillin</th>\n",
       "      <th>E2 woody</th>\n",
       "      <th>E3 fruity</th>\n",
       "      <th>E3 butter</th>\n",
       "      <th>E3 woody</th>\n",
       "    </tr>\n",
       "  </thead>\n",
       "  <tbody>\n",
       "    <tr>\n",
       "      <th>Wine 1</th>\n",
       "      <td>1</td>\n",
       "      <td>1</td>\n",
       "      <td>6</td>\n",
       "      <td>7</td>\n",
       "      <td>2</td>\n",
       "      <td>5</td>\n",
       "      <td>7</td>\n",
       "      <td>6</td>\n",
       "      <td>3</td>\n",
       "      <td>6</td>\n",
       "      <td>7</td>\n",
       "    </tr>\n",
       "    <tr>\n",
       "      <th>Wine 2</th>\n",
       "      <td>2</td>\n",
       "      <td>5</td>\n",
       "      <td>3</td>\n",
       "      <td>2</td>\n",
       "      <td>4</td>\n",
       "      <td>4</td>\n",
       "      <td>4</td>\n",
       "      <td>2</td>\n",
       "      <td>4</td>\n",
       "      <td>4</td>\n",
       "      <td>3</td>\n",
       "    </tr>\n",
       "    <tr>\n",
       "      <th>Wine 3</th>\n",
       "      <td>2</td>\n",
       "      <td>6</td>\n",
       "      <td>1</td>\n",
       "      <td>1</td>\n",
       "      <td>5</td>\n",
       "      <td>2</td>\n",
       "      <td>1</td>\n",
       "      <td>1</td>\n",
       "      <td>7</td>\n",
       "      <td>1</td>\n",
       "      <td>1</td>\n",
       "    </tr>\n",
       "    <tr>\n",
       "      <th>Wine 4</th>\n",
       "      <td>2</td>\n",
       "      <td>7</td>\n",
       "      <td>1</td>\n",
       "      <td>2</td>\n",
       "      <td>7</td>\n",
       "      <td>2</td>\n",
       "      <td>1</td>\n",
       "      <td>2</td>\n",
       "      <td>2</td>\n",
       "      <td>2</td>\n",
       "      <td>2</td>\n",
       "    </tr>\n",
       "    <tr>\n",
       "      <th>Wine 5</th>\n",
       "      <td>1</td>\n",
       "      <td>2</td>\n",
       "      <td>5</td>\n",
       "      <td>4</td>\n",
       "      <td>3</td>\n",
       "      <td>5</td>\n",
       "      <td>6</td>\n",
       "      <td>5</td>\n",
       "      <td>2</td>\n",
       "      <td>6</td>\n",
       "      <td>6</td>\n",
       "    </tr>\n",
       "    <tr>\n",
       "      <th>Wine 6</th>\n",
       "      <td>1</td>\n",
       "      <td>3</td>\n",
       "      <td>4</td>\n",
       "      <td>4</td>\n",
       "      <td>3</td>\n",
       "      <td>5</td>\n",
       "      <td>4</td>\n",
       "      <td>5</td>\n",
       "      <td>1</td>\n",
       "      <td>7</td>\n",
       "      <td>5</td>\n",
       "    </tr>\n",
       "  </tbody>\n",
       "</table>\n",
       "</div>"
      ],
      "text/plain": [
       "        Oak type  E1 fruity  E1 woody  E1 coffee  E2 red fruit  E2 roasted  \\\n",
       "Wine 1         1          1         6          7             2           5   \n",
       "Wine 2         2          5         3          2             4           4   \n",
       "Wine 3         2          6         1          1             5           2   \n",
       "Wine 4         2          7         1          2             7           2   \n",
       "Wine 5         1          2         5          4             3           5   \n",
       "Wine 6         1          3         4          4             3           5   \n",
       "\n",
       "        E2 vanillin  E2 woody  E3 fruity  E3 butter  E3 woody  \n",
       "Wine 1            7         6          3          6         7  \n",
       "Wine 2            4         2          4          4         3  \n",
       "Wine 3            1         1          7          1         1  \n",
       "Wine 4            1         2          2          2         2  \n",
       "Wine 5            6         5          2          6         6  \n",
       "Wine 6            4         5          1          7         5  "
      ]
     },
     "execution_count": 14,
     "metadata": {},
     "output_type": "execute_result"
    }
   ],
   "source": [
    "X = pd.DataFrame(\n",
    "    data=[\n",
    "        [1, 1, 6, 7, 2, 5, 7, 6, 3, 6, 7],\n",
    "        [2, 5, 3, 2, 4, 4, 4, 2, 4, 4, 3],\n",
    "        [2, 6, 1, 1, 5, 2, 1, 1, 7, 1, 1],\n",
    "        [2, 7, 1, 2, 7, 2, 1, 2, 2, 2, 2],\n",
    "        [1, 2, 5, 4, 3, 5, 6, 5, 2, 6, 6],\n",
    "        [1, 3, 4, 4, 3, 5, 4, 5, 1, 7, 5]\n",
    "    ],\n",
    "    columns=[\n",
    "        'Oak type',\n",
    "        'E1 fruity', 'E1 woody', 'E1 coffee',\n",
    "        'E2 red fruit', 'E2 roasted', 'E2 vanillin', 'E2 woody',\n",
    "        'E3 fruity', 'E3 butter', 'E3 woody'\n",
    "    ],\n",
    "    index=['Wine {}'.format(i+1) for i in range(6)]\n",
    ")\n",
    "X"
   ]
  },
  {
   "cell_type": "code",
   "execution_count": 15,
   "metadata": {
    "collapsed": false
   },
   "outputs": [
    {
     "data": {
      "text/plain": [
       "{'Expert #1': ['E1 fruity', 'E1 woody', 'E1 coffee'],\n",
       " 'Expert #2': ['E2 red fruit', 'E2 roasted', 'E2 vanillin', 'E2 woody'],\n",
       " 'Expert #3': ['E3 fruity', 'E3 butter', 'E3 woody']}"
      ]
     },
     "execution_count": 15,
     "metadata": {},
     "output_type": "execute_result"
    }
   ],
   "source": [
    "# The groups are passed as a dictionary to the MFA class.\n",
    "groups = {\n",
    "    'Expert #{}'.format(no+1): [c for c in X.columns if c.startswith('E{}'.format(no+1))]\n",
    "    for no in range(3)\n",
    "}\n",
    "groups"
   ]
  },
  {
   "cell_type": "code",
   "execution_count": 98,
   "metadata": {
    "collapsed": false
   },
   "outputs": [],
   "source": [
    "mfa = MFA(\n",
    "    groups=groups,\n",
    "    n_components=5,\n",
    "    n_iter=3,\n",
    "    copy=True,\n",
    "    engine='auto',\n",
    "    random_state=None\n",
    ")\n",
    "mfa = mfa.fit(X)"
   ]
  },
  {
   "cell_type": "code",
   "execution_count": 99,
   "metadata": {
    "collapsed": false
   },
   "outputs": [
    {
     "data": {
      "text/html": [
       "<div>\n",
       "<style scoped>\n",
       "    .dataframe tbody tr th:only-of-type {\n",
       "        vertical-align: middle;\n",
       "    }\n",
       "\n",
       "    .dataframe tbody tr th {\n",
       "        vertical-align: top;\n",
       "    }\n",
       "\n",
       "    .dataframe thead th {\n",
       "        text-align: right;\n",
       "    }\n",
       "</style>\n",
       "<table border=\"1\" class=\"dataframe\">\n",
       "  <thead>\n",
       "    <tr style=\"text-align: right;\">\n",
       "      <th></th>\n",
       "      <th>0</th>\n",
       "      <th>1</th>\n",
       "      <th>2</th>\n",
       "      <th>3</th>\n",
       "      <th>4</th>\n",
       "    </tr>\n",
       "  </thead>\n",
       "  <tbody>\n",
       "    <tr>\n",
       "      <th>Wine 1</th>\n",
       "      <td>-2.172155</td>\n",
       "      <td>-0.508596</td>\n",
       "      <td>0.484354</td>\n",
       "      <td>0.018239</td>\n",
       "      <td>-0.084861</td>\n",
       "    </tr>\n",
       "    <tr>\n",
       "      <th>Wine 2</th>\n",
       "      <td>0.557017</td>\n",
       "      <td>-0.197408</td>\n",
       "      <td>-0.410158</td>\n",
       "      <td>-0.229566</td>\n",
       "      <td>-0.148630</td>\n",
       "    </tr>\n",
       "    <tr>\n",
       "      <th>Wine 3</th>\n",
       "      <td>2.317663</td>\n",
       "      <td>-0.830259</td>\n",
       "      <td>-0.006244</td>\n",
       "      <td>0.161558</td>\n",
       "      <td>0.070279</td>\n",
       "    </tr>\n",
       "    <tr>\n",
       "      <th>Wine 4</th>\n",
       "      <td>1.832557</td>\n",
       "      <td>0.905046</td>\n",
       "      <td>0.398983</td>\n",
       "      <td>-0.066952</td>\n",
       "      <td>-0.008318</td>\n",
       "    </tr>\n",
       "    <tr>\n",
       "      <th>Wine 5</th>\n",
       "      <td>-1.403787</td>\n",
       "      <td>0.054977</td>\n",
       "      <td>-0.130753</td>\n",
       "      <td>-0.175396</td>\n",
       "      <td>0.202326</td>\n",
       "    </tr>\n",
       "    <tr>\n",
       "      <th>Wine 6</th>\n",
       "      <td>-1.131296</td>\n",
       "      <td>0.576241</td>\n",
       "      <td>-0.336181</td>\n",
       "      <td>0.292118</td>\n",
       "      <td>-0.030797</td>\n",
       "    </tr>\n",
       "  </tbody>\n",
       "</table>\n",
       "</div>"
      ],
      "text/plain": [
       "               0         1         2         3         4\n",
       "Wine 1 -2.172155 -0.508596  0.484354  0.018239 -0.084861\n",
       "Wine 2  0.557017 -0.197408 -0.410158 -0.229566 -0.148630\n",
       "Wine 3  2.317663 -0.830259 -0.006244  0.161558  0.070279\n",
       "Wine 4  1.832557  0.905046  0.398983 -0.066952 -0.008318\n",
       "Wine 5 -1.403787  0.054977 -0.130753 -0.175396  0.202326\n",
       "Wine 6 -1.131296  0.576241 -0.336181  0.292118 -0.030797"
      ]
     },
     "execution_count": 99,
     "metadata": {},
     "output_type": "execute_result"
    }
   ],
   "source": [
    "# The MFA inherits from the PCA class, so you have access to all its\n",
    "# methods and properties. The row_coordinates method will return\n",
    "# the global coordinates of each wine.\n",
    "mfa.row_coordinates(X)"
   ]
  },
  {
   "cell_type": "code",
   "execution_count": 100,
   "metadata": {
    "collapsed": false
   },
   "outputs": [
    {
     "data": {
      "image/png": "[encoded data removed]",
      "text/plain": [
       "<Figure size 500x500 with 1 Axes>"
      ]
     },
     "metadata": {},
     "output_type": "display_data"
    }
   ],
   "source": [
    "ax = mfa.plot_row_coordinates(\n",
    "    X,\n",
    "    ax=None,\n",
    "    x_component=0,\n",
    "    y_component=1,\n",
    "    labels=X.index,\n",
    "    color_labels=['Oak type {}'.format(t) for t in X['Oak type']],\n",
    "    ellipse_outline=False,\n",
    "    ellipse_fill=True,\n",
    "    show_points=True\n",
    ")\n",
    "fig = ax.get_figure()\n",
    "fig.set_figheight(5)\n",
    "fig.set_figwidth(5)\n",
    "fig.set_dpi(100)\n",
    "plt.show()"
   ]
  },
  {
   "cell_type": "code",
   "execution_count": 101,
   "metadata": {
    "collapsed": false
   },
   "outputs": [
    {
     "data": {
      "text/html": [
       "<div>\n",
       "<style scoped>\n",
       "    .dataframe tbody tr th:only-of-type {\n",
       "        vertical-align: middle;\n",
       "    }\n",
       "\n",
       "    .dataframe tbody tr th {\n",
       "        vertical-align: top;\n",
       "    }\n",
       "\n",
       "    .dataframe thead tr th {\n",
       "        text-align: left;\n",
       "    }\n",
       "</style>\n",
       "<table border=\"1\" class=\"dataframe\">\n",
       "  <thead>\n",
       "    <tr>\n",
       "      <th></th>\n",
       "      <th colspan=\"5\" halign=\"left\">Expert #1</th>\n",
       "      <th colspan=\"5\" halign=\"left\">Expert #2</th>\n",
       "      <th colspan=\"5\" halign=\"left\">Expert #3</th>\n",
       "    </tr>\n",
       "    <tr>\n",
       "      <th></th>\n",
       "      <th>0</th>\n",
       "      <th>1</th>\n",
       "      <th>2</th>\n",
       "      <th>3</th>\n",
       "      <th>4</th>\n",
       "      <th>0</th>\n",
       "      <th>1</th>\n",
       "      <th>2</th>\n",
       "      <th>3</th>\n",
       "      <th>4</th>\n",
       "      <th>0</th>\n",
       "      <th>1</th>\n",
       "      <th>2</th>\n",
       "      <th>3</th>\n",
       "      <th>4</th>\n",
       "    </tr>\n",
       "  </thead>\n",
       "  <tbody>\n",
       "    <tr>\n",
       "      <th>Wine 1</th>\n",
       "      <td>-2.764432</td>\n",
       "      <td>-1.104812</td>\n",
       "      <td>2.291269</td>\n",
       "      <td>0.395262</td>\n",
       "      <td>-0.666474</td>\n",
       "      <td>-2.213928</td>\n",
       "      <td>-0.863519</td>\n",
       "      <td>-0.743153</td>\n",
       "      <td>-0.269623</td>\n",
       "      <td>-0.060609</td>\n",
       "      <td>-1.538106</td>\n",
       "      <td>0.442545</td>\n",
       "      <td>-0.095053</td>\n",
       "      <td>-0.070922</td>\n",
       "      <td>0.472500</td>\n",
       "    </tr>\n",
       "    <tr>\n",
       "      <th>Wine 2</th>\n",
       "      <td>0.773034</td>\n",
       "      <td>0.298919</td>\n",
       "      <td>-0.811856</td>\n",
       "      <td>-0.314588</td>\n",
       "      <td>0.271716</td>\n",
       "      <td>0.284247</td>\n",
       "      <td>-0.132135</td>\n",
       "      <td>-0.353408</td>\n",
       "      <td>-0.548458</td>\n",
       "      <td>-0.523057</td>\n",
       "      <td>0.613771</td>\n",
       "      <td>-0.759009</td>\n",
       "      <td>-0.065210</td>\n",
       "      <td>0.174349</td>\n",
       "      <td>-0.194548</td>\n",
       "    </tr>\n",
       "    <tr>\n",
       "      <th>Wine 3</th>\n",
       "      <td>1.991398</td>\n",
       "      <td>0.805893</td>\n",
       "      <td>-1.479412</td>\n",
       "      <td>-0.080673</td>\n",
       "      <td>0.394757</td>\n",
       "      <td>2.111508</td>\n",
       "      <td>0.499718</td>\n",
       "      <td>0.774145</td>\n",
       "      <td>0.494275</td>\n",
       "      <td>0.007899</td>\n",
       "      <td>2.850084</td>\n",
       "      <td>-3.796390</td>\n",
       "      <td>0.686535</td>\n",
       "      <td>0.071072</td>\n",
       "      <td>-0.191819</td>\n",
       "    </tr>\n",
       "    <tr>\n",
       "      <th>Wine 4</th>\n",
       "      <td>1.981456</td>\n",
       "      <td>0.927187</td>\n",
       "      <td>-0.923993</td>\n",
       "      <td>0.023167</td>\n",
       "      <td>-0.590157</td>\n",
       "      <td>2.393009</td>\n",
       "      <td>1.227146</td>\n",
       "      <td>1.567357</td>\n",
       "      <td>0.200601</td>\n",
       "      <td>0.675549</td>\n",
       "      <td>1.123206</td>\n",
       "      <td>0.560803</td>\n",
       "      <td>0.553584</td>\n",
       "      <td>-0.424625</td>\n",
       "      <td>-0.110345</td>\n",
       "    </tr>\n",
       "    <tr>\n",
       "      <th>Wine 5</th>\n",
       "      <td>-1.292834</td>\n",
       "      <td>-0.620661</td>\n",
       "      <td>0.490031</td>\n",
       "      <td>-0.096023</td>\n",
       "      <td>0.510547</td>\n",
       "      <td>-1.492114</td>\n",
       "      <td>-0.488088</td>\n",
       "      <td>-0.619388</td>\n",
       "      <td>-0.402667</td>\n",
       "      <td>-0.125057</td>\n",
       "      <td>-1.426414</td>\n",
       "      <td>1.273679</td>\n",
       "      <td>-0.262902</td>\n",
       "      <td>-0.027499</td>\n",
       "      <td>0.221489</td>\n",
       "    </tr>\n",
       "    <tr>\n",
       "      <th>Wine 6</th>\n",
       "      <td>-0.688623</td>\n",
       "      <td>-0.306527</td>\n",
       "      <td>0.433962</td>\n",
       "      <td>0.072855</td>\n",
       "      <td>0.079610</td>\n",
       "      <td>-1.082723</td>\n",
       "      <td>-0.243122</td>\n",
       "      <td>-0.625551</td>\n",
       "      <td>0.525872</td>\n",
       "      <td>0.025276</td>\n",
       "      <td>-1.622541</td>\n",
       "      <td>2.278372</td>\n",
       "      <td>-0.816955</td>\n",
       "      <td>0.277626</td>\n",
       "      <td>-0.197277</td>\n",
       "    </tr>\n",
       "  </tbody>\n",
       "</table>\n",
       "</div>"
      ],
      "text/plain": [
       "       Expert #1                                         Expert #2            \\\n",
       "               0         1         2         3         4         0         1   \n",
       "Wine 1 -2.764432 -1.104812  2.291269  0.395262 -0.666474 -2.213928 -0.863519   \n",
       "Wine 2  0.773034  0.298919 -0.811856 -0.314588  0.271716  0.284247 -0.132135   \n",
       "Wine 3  1.991398  0.805893 -1.479412 -0.080673  0.394757  2.111508  0.499718   \n",
       "Wine 4  1.981456  0.927187 -0.923993  0.023167 -0.590157  2.393009  1.227146   \n",
       "Wine 5 -1.292834 -0.620661  0.490031 -0.096023  0.510547 -1.492114 -0.488088   \n",
       "Wine 6 -0.688623 -0.306527  0.433962  0.072855  0.079610 -1.082723 -0.243122   \n",
       "\n",
       "                                     Expert #3                                \\\n",
       "               2         3         4         0         1         2         3   \n",
       "Wine 1 -0.743153 -0.269623 -0.060609 -1.538106  0.442545 -0.095053 -0.070922   \n",
       "Wine 2 -0.353408 -0.548458 -0.523057  0.613771 -0.759009 -0.065210  0.174349   \n",
       "Wine 3  0.774145  0.494275  0.007899  2.850084 -3.796390  0.686535  0.071072   \n",
       "Wine 4  1.567357  0.200601  0.675549  1.123206  0.560803  0.553584 -0.424625   \n",
       "Wine 5 -0.619388 -0.402667 -0.125057 -1.426414  1.273679 -0.262902 -0.027499   \n",
       "Wine 6 -0.625551  0.525872  0.025276 -1.622541  2.278372 -0.816955  0.277626   \n",
       "\n",
       "                  \n",
       "               4  \n",
       "Wine 1  0.472500  \n",
       "Wine 2 -0.194548  \n",
       "Wine 3 -0.191819  \n",
       "Wine 4 -0.110345  \n",
       "Wine 5  0.221489  \n",
       "Wine 6 -0.197277  "
      ]
     },
     "execution_count": 101,
     "metadata": {},
     "output_type": "execute_result"
    }
   ],
   "source": [
    "mfa.partial_row_coordinates(X)"
   ]
  },
  {
   "cell_type": "code",
   "execution_count": 102,
   "metadata": {
    "collapsed": false
   },
   "outputs": [
    {
     "data": {
      "image/png": "[encoded data removed]",
      "text/plain": [
       "<Figure size 500x500 with 1 Axes>"
      ]
     },
     "metadata": {},
     "output_type": "display_data"
    }
   ],
   "source": [
    "ax = mfa.plot_partial_row_coordinates(\n",
    "    X,\n",
    "    x_component=0,\n",
    "    y_component=1,\n",
    "    color_labels=['Oak type {}'.format(t) for t in X['Oak type']]\n",
    ")\n",
    "fig = ax.get_figure()\n",
    "fig.set_figheight(5)\n",
    "fig.set_figwidth(5)\n",
    "fig.set_dpi(100)\n",
    "plt.show()"
   ]
  },
  {
   "cell_type": "code",
   "execution_count": 103,
   "metadata": {
    "collapsed": false
   },
   "outputs": [
    {
     "name": "stdout",
     "output_type": "stream",
     "text": [
      "Partial intertias for Expert #1:\n",
      "['0.954', '0.040', '0.006']\n",
      "Partial intertias for Expert #2:\n",
      "['0.913', '0.049', '0.021', '0.017']\n",
      "Partial intertias for Expert #3:\n",
      "['0.827', '0.147', '0.026']\n"
     ]
    }
   ],
   "source": [
    "# Partial inertias, as in Table 3 of the paper.\n",
    "for e in mfa.groups.keys():\n",
    "    print('Partial intertias for {}:'.format(e))\n",
    "    print(\n",
    "        ['{:.3f}'.format(x) for x in mfa.partial_factor_analysis_[e].explained_inertia_]\n",
    "    )"
   ]
  },
  {
   "cell_type": "code",
   "execution_count": 104,
   "metadata": {
    "collapsed": false
   },
   "outputs": [
    {
     "data": {
      "image/png": "[encoded data removed]",
      "text/plain": [
       "<Figure size 1000x500 with 1 Axes>"
      ]
     },
     "metadata": {},
     "output_type": "display_data"
    }
   ],
   "source": [
    "# Partial inertia: plot of the experts on the first two components\n",
    "fig = plt.figure(figsize=(10,5), dpi=100)\n",
    "plt.plot(0.954, 0.040, marker='$1$')\n",
    "plt.plot(0.913, 0.049, marker='$2$')\n",
    "plt.plot(0.827, 0.147, marker='$3$')\n",
    "plt.xlim(0,1)\n",
    "plt.ylim(0,0.5)\n",
    "plt.show()"
   ]
  },
  {
   "cell_type": "code",
   "execution_count": 105,
   "metadata": {
    "collapsed": false
   },
   "outputs": [
    {
     "data": {
      "text/plain": [
       "[2.8348006720963843,\n",
       " 0.35685904912090755,\n",
       " 0.11536147333118846,\n",
       " 0.033285551366019864,\n",
       " 0.012697464030381734]"
      ]
     },
     "execution_count": 105,
     "metadata": {},
     "output_type": "execute_result"
    }
   ],
   "source": [
    "mfa.eigenvalues_"
   ]
  },
  {
   "cell_type": "code",
   "execution_count": 69,
   "metadata": {
    "collapsed": false
   },
   "outputs": [
    {
     "data": {
      "text/plain": [
       "0.9597660356536484"
      ]
     },
     "execution_count": 69,
     "metadata": {},
     "output_type": "execute_result"
    }
   ],
   "source": [
    "np.sum(np.power(mfa.V_[0,0:3], 2)) * lambda1"
   ]
  },
  {
   "cell_type": "code",
   "execution_count": 52,
   "metadata": {
    "collapsed": false
   },
   "outputs": [
    {
     "data": {
      "text/plain": [
       "Wine 1   -7.836613\n",
       "Wine 2    2.191397\n",
       "Wine 3    5.645216\n",
       "Wine 4    5.617033\n",
       "Wine 5   -3.664926\n",
       "Wine 6   -1.952108\n",
       "Name: 0, dtype: float64"
      ]
     },
     "execution_count": 52,
     "metadata": {},
     "output_type": "execute_result"
    }
   ],
   "source": [
    "lambda1 * mfa.partial_row_coordinates(X)['Expert #1'][0]"
   ]
  },
  {
   "cell_type": "code",
   "execution_count": null,
   "metadata": {
    "collapsed": true
   },
   "outputs": [],
   "source": []
  }
 ],
 "metadata": {
  "kernelspec": {
   "display_name": "Python 3",
   "language": "python",
   "name": "python3"
  },
  "language_info": {
   "codemirror_mode": {
    "name": "ipython",
    "version": 3
   },
   "file_extension": ".py",
   "mimetype": "text/x-python",
   "name": "python",
   "nbconvert_exporter": "python",
   "pygments_lexer": "ipython3",
   "version": "3.6.3"
  }
 },
 "nbformat": 4,
 "nbformat_minor": 2
}
