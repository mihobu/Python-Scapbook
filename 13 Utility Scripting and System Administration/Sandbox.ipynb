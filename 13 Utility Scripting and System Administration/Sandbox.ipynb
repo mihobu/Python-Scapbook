{
 "cells": [
  {
   "cell_type": "code",
   "execution_count": 1,
   "metadata": {},
   "outputs": [],
   "source": [
    "import pandas as pd"
   ]
  },
  {
   "cell_type": "code",
   "execution_count": 2,
   "metadata": {},
   "outputs": [],
   "source": [
    "df = pd.DataFrame({})"
   ]
  },
  {
   "cell_type": "code",
   "execution_count": 3,
   "metadata": {},
   "outputs": [
    {
     "data": {
      "text/html": [
       "<div>\n",
       "<style scoped>\n",
       "    .dataframe tbody tr th:only-of-type {\n",
       "        vertical-align: middle;\n",
       "    }\n",
       "\n",
       "    .dataframe tbody tr th {\n",
       "        vertical-align: top;\n",
       "    }\n",
       "\n",
       "    .dataframe thead th {\n",
       "        text-align: right;\n",
       "    }\n",
       "</style>\n",
       "<table border=\"1\" class=\"dataframe\">\n",
       "  <thead>\n",
       "    <tr style=\"text-align: right;\">\n",
       "      <th></th>\n",
       "    </tr>\n",
       "  </thead>\n",
       "  <tbody>\n",
       "  </tbody>\n",
       "</table>\n",
       "</div>"
      ],
      "text/plain": [
       "Empty DataFrame\n",
       "Columns: []\n",
       "Index: []"
      ]
     },
     "execution_count": 3,
     "metadata": {},
     "output_type": "execute_result"
    }
   ],
   "source": [
    "df"
   ]
  },
  {
   "cell_type": "code",
   "execution_count": 2,
   "metadata": {
    "collapsed": true
   },
   "outputs": [],
   "source": [
    "k = 4"
   ]
  },
  {
   "cell_type": "code",
   "execution_count": 8,
   "metadata": {
    "collapsed": true
   },
   "outputs": [],
   "source": [
    "def suffix(i):\n",
    "    if i%10 == 1: return 'st'\n",
    "    elif i%10 == 2: return 'nd'\n",
    "    elif i%10 == 3: return 'rd'\n",
    "    else: return 'th'"
   ]
  },
  {
   "cell_type": "code",
   "execution_count": 11,
   "metadata": {},
   "outputs": [],
   "source": [
    "columns = ['index']\n",
    "for i in range(1,k+1):\n",
    "    columns.append(str(i) + suffix(i))\n",
    "    columns.append(str(i) + '-prox')"
   ]
  },
  {
   "cell_type": "code",
   "execution_count": 12,
   "metadata": {},
   "outputs": [
    {
     "data": {
      "text/plain": [
       "['index', '1st', '1-prox', '2nd', '2-prox', '3rd', '3-prox', '4th', '4-prox']"
      ]
     },
     "execution_count": 12,
     "metadata": {},
     "output_type": "execute_result"
    }
   ],
   "source": [
    "columns"
   ]
  },
  {
   "cell_type": "code",
   "execution_count": 31,
   "metadata": {
    "collapsed": true
   },
   "outputs": [],
   "source": [
    "row = [1, 45, 0.134, 13, 1.33, 8, 1.54, 103, 2.33]"
   ]
  },
  {
   "cell_type": "code",
   "execution_count": 47,
   "metadata": {},
   "outputs": [],
   "source": [
    "df = pd.DataFrame(columns=columns)"
   ]
  },
  {
   "cell_type": "code",
   "execution_count": 44,
   "metadata": {},
   "outputs": [],
   "source": [
    "df = df.append(dict(zip(columns, row)), ignore_index=True)"
   ]
  },
  {
   "cell_type": "code",
   "execution_count": 45,
   "metadata": {},
   "outputs": [
    {
     "data": {
      "text/html": [
       "<div>\n",
       "<table border=\"1\" class=\"dataframe\">\n",
       "  <thead>\n",
       "    <tr style=\"text-align: right;\">\n",
       "      <th></th>\n",
       "      <th>index</th>\n",
       "      <th>1st</th>\n",
       "      <th>1-prox</th>\n",
       "      <th>2nd</th>\n",
       "      <th>2-prox</th>\n",
       "      <th>3rd</th>\n",
       "      <th>3-prox</th>\n",
       "      <th>4th</th>\n",
       "      <th>4-prox</th>\n",
       "    </tr>\n",
       "  </thead>\n",
       "  <tbody>\n",
       "    <tr>\n",
       "      <th>0</th>\n",
       "      <td>1.0</td>\n",
       "      <td>45.0</td>\n",
       "      <td>0.134</td>\n",
       "      <td>13.0</td>\n",
       "      <td>1.33</td>\n",
       "      <td>8.0</td>\n",
       "      <td>1.54</td>\n",
       "      <td>103.0</td>\n",
       "      <td>2.33</td>\n",
       "    </tr>\n",
       "    <tr>\n",
       "      <th>1</th>\n",
       "      <td>1.0</td>\n",
       "      <td>45.0</td>\n",
       "      <td>0.134</td>\n",
       "      <td>13.0</td>\n",
       "      <td>1.33</td>\n",
       "      <td>8.0</td>\n",
       "      <td>1.54</td>\n",
       "      <td>103.0</td>\n",
       "      <td>2.33</td>\n",
       "    </tr>\n",
       "  </tbody>\n",
       "</table>\n",
       "</div>"
      ],
      "text/plain": [
       "   index   1st  1-prox   2nd  2-prox  3rd  3-prox    4th  4-prox\n",
       "0    1.0  45.0   0.134  13.0    1.33  8.0    1.54  103.0    2.33\n",
       "1    1.0  45.0   0.134  13.0    1.33  8.0    1.54  103.0    2.33"
      ]
     },
     "execution_count": 45,
     "metadata": {},
     "output_type": "execute_result"
    }
   ],
   "source": [
    "df"
   ]
  },
  {
   "cell_type": "code",
   "execution_count": 49,
   "metadata": {},
   "outputs": [
    {
     "ename": "SyntaxError",
     "evalue": "invalid syntax (<ipython-input-49-baa7ee11931e>, line 1)",
     "output_type": "error",
     "traceback": [
      "\u001b[0;36m  File \u001b[0;32m\"<ipython-input-49-baa7ee11931e>\"\u001b[0;36m, line \u001b[0;32m1\u001b[0m\n\u001b[0;31m    pd.to_numeric(df.1st, downcast='int')\u001b[0m\n\u001b[0m                     ^\u001b[0m\n\u001b[0;31mSyntaxError\u001b[0m\u001b[0;31m:\u001b[0m invalid syntax\n"
     ]
    }
   ],
   "source": []
  },
  {
   "cell_type": "code",
   "execution_count": 54,
   "metadata": {},
   "outputs": [],
   "source": [
    "def myfunc(event):\n",
    "    \n",
    "    try:\n",
    "        #if event['detail']['jobName'] == 'siu-preprocessing-all-1' and event['detail']['state'] == 'SUCCEEDED':\n",
    "        #    print('The quarterly preprocessing Glue job completed successfully.')\n",
    "        #elif event['detail']['jobName'] == 'siu-preprocessing-all-2' and event['detail']['state'] == 'SUCCEEDED':\n",
    "        #    print('The daily preprocessing Glue job completed successfully.')\n",
    "        print(event['x'])\n",
    "    except ArithmeticError:\n",
    "        print('hahahaha')w\n",
    "            \n",
    "#except KeyError:\n",
    "#    print('expected details not present')\n",
    "#    raise Exception('This is a generic exception')\n",
    "#except:\n",
    "#    print('Something went wrong')\n",
    "#finally:\n",
    "#    print('Lambda')"
   ]
  },
  {
   "cell_type": "code",
   "execution_count": 55,
   "metadata": {},
   "outputs": [
    {
     "ename": "KeyError",
     "evalue": "'x'",
     "output_type": "error",
     "traceback": [
      "\u001b[1;31m---------------------------------------------------------------------------\u001b[0m",
      "\u001b[1;31mKeyError\u001b[0m                                  Traceback (most recent call last)",
      "\u001b[1;32m<ipython-input-55-bfee239e4084>\u001b[0m in \u001b[0;36m<module>\u001b[1;34m\u001b[0m\n\u001b[0;32m      5\u001b[0m     }\n\u001b[0;32m      6\u001b[0m }\n\u001b[1;32m----> 7\u001b[1;33m \u001b[0mmyfunc\u001b[0m\u001b[1;33m(\u001b[0m\u001b[0mmyevent\u001b[0m\u001b[1;33m)\u001b[0m\u001b[1;33m\u001b[0m\u001b[0m\n\u001b[0m",
      "\u001b[1;32m<ipython-input-54-a73d69ea2a9b>\u001b[0m in \u001b[0;36mmyfunc\u001b[1;34m(event)\u001b[0m\n\u001b[0;32m      6\u001b[0m         \u001b[1;31m#elif event['detail']['jobName'] == 'siu-preprocessing-all-2' and event['detail']['state'] == 'SUCCEEDED':\u001b[0m\u001b[1;33m\u001b[0m\u001b[1;33m\u001b[0m\u001b[0m\n\u001b[0;32m      7\u001b[0m         \u001b[1;31m#    print('The daily preprocessing Glue job completed successfully.')\u001b[0m\u001b[1;33m\u001b[0m\u001b[1;33m\u001b[0m\u001b[0m\n\u001b[1;32m----> 8\u001b[1;33m         \u001b[0mprint\u001b[0m\u001b[1;33m(\u001b[0m\u001b[0mevent\u001b[0m\u001b[1;33m[\u001b[0m\u001b[1;34m'x'\u001b[0m\u001b[1;33m]\u001b[0m\u001b[1;33m)\u001b[0m\u001b[1;33m\u001b[0m\u001b[0m\n\u001b[0m\u001b[0;32m      9\u001b[0m     \u001b[1;32mexcept\u001b[0m \u001b[0mArithmeticError\u001b[0m\u001b[1;33m:\u001b[0m\u001b[1;33m\u001b[0m\u001b[0m\n\u001b[0;32m     10\u001b[0m         \u001b[0mprint\u001b[0m\u001b[1;33m(\u001b[0m\u001b[1;34m'hahahaha'\u001b[0m\u001b[1;33m)\u001b[0m\u001b[1;33m\u001b[0m\u001b[0m\n",
      "\u001b[1;31mKeyError\u001b[0m: 'x'"
     ]
    }
   ],
   "source": [
    "myevent = {\n",
    "    'detail': {\n",
    "        'state': 'SUCCEEDED',\n",
    "        'jobName': 'my-glue-job'\n",
    "    }\n",
    "}\n",
    "myfunc(myevent)"
   ]
  },
  {
   "cell_type": "code",
   "execution_count": 43,
   "metadata": {},
   "outputs": [
    {
     "ename": "KeyError",
     "evalue": "'x'",
     "output_type": "error",
     "traceback": [
      "\u001b[1;31m---------------------------------------------------------------------------\u001b[0m",
      "\u001b[1;31mKeyError\u001b[0m                                  Traceback (most recent call last)",
      "\u001b[1;32m<ipython-input-43-611eae996175>\u001b[0m in \u001b[0;36m<module>\u001b[1;34m\u001b[0m\n\u001b[1;32m----> 1\u001b[1;33m \u001b[1;32mif\u001b[0m \u001b[1;32mnot\u001b[0m \u001b[0mmyevent\u001b[0m\u001b[1;33m[\u001b[0m\u001b[1;34m'x'\u001b[0m\u001b[1;33m]\u001b[0m\u001b[1;33m:\u001b[0m\u001b[1;33m\u001b[0m\u001b[0m\n\u001b[0m\u001b[0;32m      2\u001b[0m     \u001b[0mprint\u001b[0m\u001b[1;33m(\u001b[0m\u001b[1;34m'x'\u001b[0m\u001b[1;33m)\u001b[0m\u001b[1;33m\u001b[0m\u001b[0m\n",
      "\u001b[1;31mKeyError\u001b[0m: 'x'"
     ]
    }
   ],
   "source": [
    "if not myevent['x']:\n",
    "    print('x')"
   ]
  },
  {
   "cell_type": "code",
   "execution_count": 56,
   "metadata": {},
   "outputs": [
    {
     "name": "stdout",
     "output_type": "stream",
     "text": [
      "Bye\n"
     ]
    }
   ],
   "source": [
    "a = 'z'\n",
    "all = ['a', 'b']\n",
    "if a not in all:\n",
    "    print('Bye')"
   ]
  },
  {
   "cell_type": "code",
   "execution_count": 57,
   "metadata": {},
   "outputs": [
    {
     "name": "stdout",
     "output_type": "stream",
     "text": [
      "yo\n"
     ]
    }
   ],
   "source": [
    "if 'a' != 'b':\n",
    "    print('yo')"
   ]
  },
  {
   "cell_type": "code",
   "execution_count": 61,
   "metadata": {},
   "outputs": [],
   "source": [
    "def yo(a):\n",
    "    if a != 'yo':\n",
    "        return\n",
    "    print('yo!')\n",
    "    return"
   ]
  },
  {
   "cell_type": "code",
   "execution_count": 63,
   "metadata": {},
   "outputs": [
    {
     "name": "stdout",
     "output_type": "stream",
     "text": [
      "yo!\n"
     ]
    }
   ],
   "source": [
    "yo('yo')"
   ]
  },
  {
   "cell_type": "code",
   "execution_count": 64,
   "metadata": {},
   "outputs": [],
   "source": [
    "parms = {\n",
    "    \"Parameters\": [\n",
    "        {\n",
    "            \"Name\": \"/Branch312/Dev/Engineer1\",\n",
    "            \"Type\": \"String\",\n",
    "            \"Value\": \"Saanvi Sarkar\",\n",
    "            \"Version\": 1\n",
    "        },\n",
    "        {\n",
    "            \"Name\": \"/Branch312/Dev/Engineer2\",\n",
    "            \"Type\": \"String\",\n",
    "            \"Value\": \"Zhang Wei\",\n",
    "            \"Version\": 1\n",
    "        },\n",
    "        {\n",
    "            \"Name\": \"/Branch312/Dev/Engineer3\",\n",
    "            \"Type\": \"String\",\n",
    "            \"Value\": \"Alejandro Rosalez\",\n",
    "            \"Version\": 1\n",
    "        },\n",
    "        {\n",
    "            \"Name\": \"/Branch312/Dev/Engineer4\",\n",
    "            \"Type\": \"String\",\n",
    "            \"Value\": \"Maria Garcia\",\n",
    "            \"Version\": 2\n",
    "        },\n",
    "        {\n",
    "            \"Name\": \"/Branch312/Dev/Engineer5\",\n",
    "            \"Type\": \"String\",\n",
    "            \"Value\": \"Paulo Santos\",\n",
    "            \"Version\": 1\n",
    "        },\n",
    "        {\n",
    "            \"Name\": \"/Branch312/Dev/Engineer6\",\n",
    "            \"Type\": \"String\",\n",
    "            \"Value\": \"Mary Major\",\n",
    "            \"Version\": 1\n",
    "        },\n",
    "        {\n",
    "            \"Name\": \"/Branch312/Dev/Intern\",\n",
    "            \"Type\": \"String\",\n",
    "            \"Value\": \"Nikhil Jayashankar\",\n",
    "            \"Version\": 1\n",
    "        },\n",
    "        {\n",
    "            \"Name\": \"/Branch312/Dev/TeamLead\",\n",
    "            \"Type\": \"String\",\n",
    "            \"Value\": \"Jane Roe\",\n",
    "            \"Version\": 1\n",
    "        }\n",
    "    ]\n",
    "}"
   ]
  },
  {
   "cell_type": "code",
   "execution_count": 68,
   "metadata": {},
   "outputs": [
    {
     "data": {
      "text/plain": [
       "'Saanvi Sarkar'"
      ]
     },
     "execution_count": 68,
     "metadata": {},
     "output_type": "execute_result"
    }
   ],
   "source": [
    "parms['Parameters']['Name'=='']['Value']"
   ]
  },
  {
   "cell_type": "code",
   "execution_count": 88,
   "metadata": {},
   "outputs": [],
   "source": [
    "def find(lst, key):\n",
    "    for i, dic in enumerate(lst):\n",
    "        print(dic)\n",
    "        if dic['Name'] == key:\n",
    "            return dic['Value']\n",
    "    raise Exception('Key not found')"
   ]
  },
  {
   "cell_type": "code",
   "execution_count": 90,
   "metadata": {},
   "outputs": [
    {
     "name": "stdout",
     "output_type": "stream",
     "text": [
      "{'Name': '/Branch312/Dev/Engineer1', 'Type': 'String', 'Value': 'Saanvi Sarkar', 'Version': 1}\n",
      "{'Name': '/Branch312/Dev/Engineer2', 'Type': 'String', 'Value': 'Zhang Wei', 'Version': 1}\n",
      "{'Name': '/Branch312/Dev/Engineer3', 'Type': 'String', 'Value': 'Alejandro Rosalez', 'Version': 1}\n",
      "{'Name': '/Branch312/Dev/Engineer4', 'Type': 'String', 'Value': 'Maria Garcia', 'Version': 2}\n",
      "{'Name': '/Branch312/Dev/Engineer5', 'Type': 'String', 'Value': 'Paulo Santos', 'Version': 1}\n",
      "{'Name': '/Branch312/Dev/Engineer6', 'Type': 'String', 'Value': 'Mary Major', 'Version': 1}\n",
      "{'Name': '/Branch312/Dev/Intern', 'Type': 'String', 'Value': 'Nikhil Jayashankar', 'Version': 1}\n",
      "{'Name': '/Branch312/Dev/TeamLead', 'Type': 'String', 'Value': 'Jane Roe', 'Version': 1}\n"
     ]
    },
    {
     "ename": "Exception",
     "evalue": "Key not found",
     "output_type": "error",
     "traceback": [
      "\u001b[1;31m---------------------------------------------------------------------------\u001b[0m",
      "\u001b[1;31mException\u001b[0m                                 Traceback (most recent call last)",
      "\u001b[1;32m<ipython-input-90-e1ddcaa4cecc>\u001b[0m in \u001b[0;36m<module>\u001b[1;34m\u001b[0m\n\u001b[1;32m----> 1\u001b[1;33m \u001b[0mfind\u001b[0m\u001b[1;33m(\u001b[0m\u001b[0mparms\u001b[0m\u001b[1;33m[\u001b[0m\u001b[1;34m'Parameters'\u001b[0m\u001b[1;33m]\u001b[0m\u001b[1;33m,\u001b[0m \u001b[1;34m'/Branch312/Dev/Engineer33'\u001b[0m\u001b[1;33m)\u001b[0m\u001b[1;33m\u001b[0m\u001b[0m\n\u001b[0m",
      "\u001b[1;32m<ipython-input-88-867b62fe89b0>\u001b[0m in \u001b[0;36mfind\u001b[1;34m(lst, key)\u001b[0m\n\u001b[0;32m      4\u001b[0m         \u001b[1;32mif\u001b[0m \u001b[0mdic\u001b[0m\u001b[1;33m[\u001b[0m\u001b[1;34m'Name'\u001b[0m\u001b[1;33m]\u001b[0m \u001b[1;33m==\u001b[0m \u001b[0mkey\u001b[0m\u001b[1;33m:\u001b[0m\u001b[1;33m\u001b[0m\u001b[0m\n\u001b[0;32m      5\u001b[0m             \u001b[1;32mreturn\u001b[0m \u001b[0mdic\u001b[0m\u001b[1;33m[\u001b[0m\u001b[1;34m'Value'\u001b[0m\u001b[1;33m]\u001b[0m\u001b[1;33m\u001b[0m\u001b[0m\n\u001b[1;32m----> 6\u001b[1;33m     \u001b[1;32mraise\u001b[0m \u001b[0mException\u001b[0m\u001b[1;33m(\u001b[0m\u001b[1;34m'Key not found'\u001b[0m\u001b[1;33m)\u001b[0m\u001b[1;33m\u001b[0m\u001b[0m\n\u001b[0m",
      "\u001b[1;31mException\u001b[0m: Key not found"
     ]
    }
   ],
   "source": [
    "find(parms['Parameters'], '/Branch312/Dev/Engineer33')"
   ]
  },
  {
   "cell_type": "code",
   "execution_count": 1,
   "metadata": {},
   "outputs": [],
   "source": [
    "import os"
   ]
  },
  {
   "cell_type": "code",
   "execution_count": 13,
   "metadata": {},
   "outputs": [
    {
     "name": "stdout",
     "output_type": "stream",
     "text": [
      "ALLUSERSPROFILE=C:\\ProgramData\n",
      "APPDATA=C:\\Users\\mburkhardt\\AppData\\Roaming\n",
      "COMMONPROGRAMFILES=C:\\Program Files\\Common Files\n",
      "COMMONPROGRAMFILES(X86)=C:\\Program Files (x86)\\Common Files\n",
      "COMMONPROGRAMW6432=C:\\Program Files\\Common Files\n",
      "COMPUTERNAME=OH00000GSWYTC2L\n",
      "COMSPEC=C:\\WINDOWS\\system32\\cmd.exe\n",
      "DRIVERDATA=C:\\Windows\\System32\\Drivers\\DriverData\n",
      "FPS_BROWSER_APP_PROFILE_STRING=Internet Explorer\n",
      "FPS_BROWSER_USER_PROFILE_STRING=Default\n",
      "HOMEDRIVE=C:\n",
      "HOMEPATH=\\Users\\mburkhardt\n",
      "LOCALAPPDATA=C:\\Users\\mburkhardt\\AppData\\Local\n",
      "LOGONSERVER=\\\\STLMOMBHAD03\n",
      "NUMBER_OF_PROCESSORS=4\n",
      "ONEDRIVE=C:\\Users\\mburkhardt\\OneDrive - Magellan Health\n",
      "ONEDRIVECOMMERCIAL=C:\\Users\\mburkhardt\\OneDrive - Magellan Health\n",
      "OS=Windows_NT\n",
      "PATH=C:\\Perl64\\site\\bin;C:\\Perl64\\bin;C:\\ProgramData\\Oracle\\Java\\javapath;C:\\WINDOWS\\system32;C:\\WINDOWS;C:\\WINDOWS\\System32\\Wbem;C:\\WINDOWS\\System32\\WindowsPowerShell\\v1.0\\;C:\\Program Files (x86)\\Attachmate\\Reflection\\;C:\\Program Files (x86)\\Box\\Box Edit\\;C:\\ProgramData\\Anaconda3;C:\\ProgramData\\Anaconda3\\Scripts;C:\\ProgramData\\Anaconda3\\Library\\bin;C:\\Program Files (x86)\\Microsoft SQL Server\\Client SDK\\ODBC\\130\\Tools\\Binn\\;C:\\Program Files (x86)\\Microsoft SQL Server\\140\\Tools\\Binn\\;C:\\Program Files (x86)\\Microsoft SQL Server\\140\\DTS\\Binn\\;C:\\Program Files (x86)\\Microsoft SQL Server\\140\\Tools\\Binn\\ManagementStudio\\;C:\\Program Files\\Git\\cmd;C:\\Program Files\\Git\\mingw64\\bin;C:\\Program Files\\Git\\usr\\bin;C:\\Program Files\\PuTTY\\;C:\\Program Files\\MIT\\Kerberos\\bin;C:\\WINDOWS\\System32\\OpenSSH\\;C:\\Program Files\\Intel\\WiFi\\bin\\;C:\\Program Files\\Common Files\\Intel\\WirelessCommon\\;C:\\Users\\mburkhardt\\Documents\\Programs;C:\\oktacli;C:\\Users\\mburkhardt\\AppData\\Local\\Microsoft\\WindowsApps;C:\\Users\\mburkhardt\\AppData\\Local\\GitHubDesktop\\bin;C:\\Users\\mburkhardt\\AppData\\Local\\Programs\\Microsoft VS Code\\bin\n",
      "PATHEXT=.COM;.EXE;.BAT;.CMD;.VBS;.VBE;.JS;.JSE;.WSF;.WSH;.MSC\n",
      "PROCESSOR_ARCHITECTURE=AMD64\n",
      "PROCESSOR_IDENTIFIER=Intel64 Family 6 Model 78 Stepping 3, GenuineIntel\n",
      "PROCESSOR_LEVEL=6\n",
      "PROCESSOR_REVISION=4e03\n",
      "PROGRAMDATA=C:\\ProgramData\n",
      "PROGRAMFILES=C:\\Program Files\n",
      "PROGRAMFILES(X86)=C:\\Program Files (x86)\n",
      "PROGRAMW6432=C:\\Program Files\n",
      "PROMPT=$P$G\n",
      "PSMODULEPATH=C:\\Program Files\\WindowsPowerShell\\Modules;C:\\WINDOWS\\system32\\WindowsPowerShell\\v1.0\\Modules\n",
      "PUBLIC=C:\\Users\\Public\n",
      "SESSIONNAME=Console\n",
      "SYSTEMDRIVE=C:\n",
      "SYSTEMROOT=C:\\WINDOWS\n",
      "TEMP=C:\\Users\\MBURKH~1\\AppData\\Local\\Temp\n",
      "TMP=C:\\Users\\MBURKH~1\\AppData\\Local\\Temp\n",
      "UATDATA=C:\\Windows\\CCM\\UATData\\D9F8C395-CAB8-491d-B8AC-179A1FE1BE77\n",
      "USERDNSDOMAIN=MBH.MHS.MAGELLANHEALTH.COM\n",
      "USERDOMAIN=MBH\n",
      "USERDOMAIN_ROAMINGPROFILE=MBH\n",
      "USERNAME=mburkhardt\n",
      "USERPROFILE=C:\\Users\\mburkhardt\n",
      "WINDIR=C:\\WINDOWS\n",
      "JPY_INTERRUPT_EVENT=552\n",
      "IPY_INTERRUPT_EVENT=552\n",
      "JPY_PARENT_PID=2588\n",
      "TERM=xterm-color\n",
      "CLICOLOR=1\n",
      "PAGER=cat\n",
      "GIT_PAGER=cat\n",
      "MPLBACKEND=module://ipykernel.pylab.backend_inline\n"
     ]
    }
   ],
   "source": [
    "for k in os.environ.keys():\n",
    "    print('{}={}'.format(k,os.environ.get(k)))"
   ]
  },
  {
   "cell_type": "code",
   "execution_count": null,
   "metadata": {},
   "outputs": [],
   "source": []
  }
 ],
 "metadata": {
  "kernelspec": {
   "display_name": "Python 3",
   "language": "python",
   "name": "python3"
  },
  "language_info": {
   "codemirror_mode": {
    "name": "ipython",
    "version": 3
   },
   "file_extension": ".py",
   "mimetype": "text/x-python",
   "name": "python",
   "nbconvert_exporter": "python",
   "pygments_lexer": "ipython3",
   "version": "3.6.6"
  }
 },
 "nbformat": 4,
 "nbformat_minor": 2
}
