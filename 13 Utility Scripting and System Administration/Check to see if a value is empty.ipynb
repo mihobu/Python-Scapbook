{
 "cells": [
  {
   "cell_type": "code",
   "execution_count": 7,
   "metadata": {},
   "outputs": [],
   "source": [
    "sarr = [ 'hello', '', '-1', -1, 0, '0', None ]"
   ]
  },
  {
   "cell_type": "markdown",
   "metadata": {},
   "source": [
    "Empty strings are \"falsy\", so a Boolean comparison should suffice:"
   ]
  },
  {
   "cell_type": "code",
   "execution_count": 13,
   "metadata": {},
   "outputs": [
    {
     "name": "stdout",
     "output_type": "stream",
     "text": [
      "String at position 0 is not empty: hello\n",
      "String at position 1 is empty.\n",
      "String at position 2 is not empty: -1\n",
      "String at position 3 is not empty: -1\n",
      "String at position 4 is empty.\n",
      "String at position 5 is not empty: 0\n",
      "String at position 6 is empty.\n"
     ]
    }
   ],
   "source": [
    "for i in range(len(sarr)):\n",
    "    s = sarr[i]\n",
    "    if s:\n",
    "        print('String at position {} is not empty: {}'.format(i, s))\n",
    "    else:\n",
    "        print('String at position {} is empty.'.format(i))\n"
   ]
  },
  {
   "cell_type": "code",
   "execution_count": 38,
   "metadata": {},
   "outputs": [
    {
     "name": "stdout",
     "output_type": "stream",
     "text": [
      "Key ExtraPythonFiles is not empty: moo\n",
      "Key ExtraJars is empty.\n",
      "Key ExtraFiles is empty.\n",
      "{'ExtraPythonFiles': 'moo'}\n"
     ]
    }
   ],
   "source": [
    "src_dict = {\n",
    "    'ExtraPythonFiles': 'moo',\n",
    "    'ExtraJars': '',\n",
    "    'ExtraFiles': ''\n",
    "}\n",
    "\n",
    "dest_dict = {}\n",
    "\n",
    "sd_keys = src_dict.keys()\n",
    "\n",
    "for key in list(sd_keys):\n",
    "\n",
    "    val = src_dict[key]\n",
    "\n",
    "    if val:\n",
    "        print('Key {} is not empty: {}'.format(key, val))\n",
    "        dest_dict[key] = val\n",
    "    else:\n",
    "        print('Key {} is empty.'.format(key))\n",
    "\n",
    "print(dest_dict)"
   ]
  },
  {
   "cell_type": "code",
   "execution_count": 37,
   "metadata": {},
   "outputs": [
    {
     "data": {
      "text/plain": [
       "{'ExtraPythonFiles': 'moo'}"
      ]
     },
     "execution_count": 37,
     "metadata": {},
     "output_type": "execute_result"
    }
   ],
   "source": [
    "dest_dict"
   ]
  },
  {
   "cell_type": "code",
   "execution_count": null,
   "metadata": {},
   "outputs": [],
   "source": []
  }
 ],
 "metadata": {
  "kernelspec": {
   "display_name": "Python 3",
   "language": "python",
   "name": "python3"
  },
  "language_info": {
   "codemirror_mode": {
    "name": "ipython",
    "version": 3
   },
   "file_extension": ".py",
   "mimetype": "text/x-python",
   "name": "python",
   "nbconvert_exporter": "python",
   "pygments_lexer": "ipython3",
   "version": "3.6.6"
  }
 },
 "nbformat": 4,
 "nbformat_minor": 2
}
