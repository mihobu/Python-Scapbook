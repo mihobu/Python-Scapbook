{
 "cells": [
  {
   "cell_type": "markdown",
   "metadata": {},
   "source": [
    "# Creating Ranges of Values in Python\n",
    "\n",
    "**by Michael Burkhardt (mburkhardt@smu.edu)**\n",
    "\n",
    "_Last updated: February 17, 2016_\n",
    "\n",
    "As I grope around, trying to find my way around Python, Jupyter notebooks, Scipy, Numpy, (and on and on) I'm learning a great deal. Unfortunately, sometimes the simple things are the most elusive, espcially in the early going. In this notebook, I'm collecting some of the many ways I've found (so far) to generate ranges of numbers in a variety of contexts. I'll start with “vanilla” Python, then move on to numpy. I may add more stuff as time goes on..."
   ]
  },
  {
   "cell_type": "markdown",
   "metadata": {},
   "source": [
    "## 1. Native Python"
   ]
  },
  {
   "cell_type": "markdown",
   "metadata": {},
   "source": [
    "### 1.1 List of repeated values using the * operator\n",
    "This is probably the simplest way of generating a list of repeated values."
   ]
  },
  {
   "cell_type": "code",
   "execution_count": 1,
   "metadata": {
    "collapsed": false
   },
   "outputs": [
    {
     "name": "stdout",
     "output_type": "stream",
     "text": [
      "<type 'list'>\n",
      "[7, 7, 7, 7, 7, 7, 7, 7, 7, 7, 7]\n",
      "7\n"
     ]
    }
   ],
   "source": [
    "# Generate a list containing 11 elements, all having the same value (7).\n",
    "x = [7] * 11\n",
    "print type(x)\n",
    "print x\n",
    "print x[0]\n",
    "\n",
    "# Clean up\n",
    "del x"
   ]
  },
  {
   "cell_type": "markdown",
   "metadata": {},
   "source": [
    "### 1.2 Using the range() function\n",
    "\n",
    "    range( [start], stop [, step] )\n",
    "\n",
    "The range function returns a list of integers of the half-open interval **[start,stop)**."
   ]
  },
  {
   "cell_type": "code",
   "execution_count": 2,
   "metadata": {
    "collapsed": false
   },
   "outputs": [
    {
     "name": "stdout",
     "output_type": "stream",
     "text": [
      "<type 'list'>\n",
      "[0, 1, 2, 3, 4, 5, 6, 7, 8, 9]\n",
      "1\n"
     ]
    }
   ],
   "source": [
    "# Generate a list of integer values over a range. In this case, from 1 to 9:\n",
    "x = range(10)\n",
    "print type(x)\n",
    "print x\n",
    "print x[1]\n",
    "\n",
    "# Clean up\n",
    "del x"
   ]
  },
  {
   "cell_type": "code",
   "execution_count": 3,
   "metadata": {
    "collapsed": false
   },
   "outputs": [
    {
     "name": "stdout",
     "output_type": "stream",
     "text": [
      "[9, 12, 15]\n"
     ]
    }
   ],
   "source": [
    "# Here's another example, in which start and step are also specified:\n",
    "x = range(9,18,3)\n",
    "print x\n",
    "\n",
    "# Clean up\n",
    "del x"
   ]
  },
  {
   "cell_type": "code",
   "execution_count": 4,
   "metadata": {
    "collapsed": false
   },
   "outputs": [
    {
     "name": "stdout",
     "output_type": "stream",
     "text": [
      "[(1, 2), (3, 4), (4, 5)]\n"
     ]
    }
   ],
   "source": [
    "x = [(1,2),(3,4),(4,5)]\n",
    "print x\n",
    "\n",
    "# Clean up\n",
    "del x"
   ]
  },
  {
   "cell_type": "markdown",
   "metadata": {},
   "source": [
    "## 2. Ranges using Numpy\n",
    "First, a bit about Numpy arrays, which are a different type (**numpy.ndarray**) from standard Python lists, but otherwise behave just like ordinary Python arrays. For more about the differences, [read this](http://stackoverflow.com/questions/993984/why-numpy-instead-of-python-lists). Why is this important? Because numpy functions for generating ranges of values return numpy ndarray objects, not Python lists."
   ]
  },
  {
   "cell_type": "code",
   "execution_count": 5,
   "metadata": {
    "collapsed": true
   },
   "outputs": [],
   "source": [
    "# First load the numpy library\n",
    "import numpy as np"
   ]
  },
  {
   "cell_type": "markdown",
   "metadata": {},
   "source": [
    "### 2.0 An introduction to Numpy arrays"
   ]
  },
  {
   "cell_type": "code",
   "execution_count": 6,
   "metadata": {
    "collapsed": false
   },
   "outputs": [
    {
     "name": "stdout",
     "output_type": "stream",
     "text": [
      "<type 'numpy.ndarray'>\n",
      "[1 2 3]\n",
      "2\n"
     ]
    }
   ],
   "source": [
    "# A simple numpy ndarray looks and tastes like a regular Python list.\n",
    "x = np.array([1, 2, 3], int)\n",
    "print type(x)\n",
    "print x\n",
    "print x[1]\n",
    "\n",
    "# Clean up\n",
    "del x"
   ]
  },
  {
   "cell_type": "code",
   "execution_count": 7,
   "metadata": {
    "collapsed": false
   },
   "outputs": [
    {
     "name": "stdout",
     "output_type": "stream",
     "text": [
      "<type 'numpy.ndarray'>\n",
      "[1 2 3 4 5 6 7 8 9]\n"
     ]
    }
   ],
   "source": [
    "# You can also create a numpy array from an existing Python list:\n",
    "x = range(1,10)\n",
    "y = np.asarray(x)\n",
    "\n",
    "print type(y)\n",
    "print y\n",
    "\n",
    "# Clean up\n",
    "del x, y"
   ]
  },
  {
   "cell_type": "markdown",
   "metadata": {},
   "source": [
    "### 2.1 Generate an array of all zeros\n",
    "\n",
    "    numpy.zeros( shape, dtype=float )\n",
    "\n",
    "Where _shape_ is a single int or a tuple specifying the size of a two-dimensional array to be generated. (Some options have been omitted for simplicity.)"
   ]
  },
  {
   "cell_type": "code",
   "execution_count": 8,
   "metadata": {
    "collapsed": false
   },
   "outputs": [
    {
     "name": "stdout",
     "output_type": "stream",
     "text": [
      "[ 0.  0.  0.  0.  0.]\n"
     ]
    }
   ],
   "source": [
    "# A simple array of floating point zeros\n",
    "print np.zeros(5)"
   ]
  },
  {
   "cell_type": "code",
   "execution_count": 9,
   "metadata": {
    "collapsed": false
   },
   "outputs": [
    {
     "name": "stdout",
     "output_type": "stream",
     "text": [
      "[[ 0.  0.]\n",
      " [ 0.  0.]]\n"
     ]
    }
   ],
   "source": [
    "# a two-dimensional result\n",
    "print np.zeros((2,2))"
   ]
  },
  {
   "cell_type": "code",
   "execution_count": 10,
   "metadata": {
    "collapsed": false
   },
   "outputs": [
    {
     "name": "stdout",
     "output_type": "stream",
     "text": [
      "[[0 0]\n",
      " [0 0]]\n"
     ]
    }
   ],
   "source": [
    "# a two-dimensional result containing integers\n",
    "print np.zeros((2,2),dtype=int)"
   ]
  },
  {
   "cell_type": "markdown",
   "metadata": {},
   "source": [
    "There is also a way of generating an [empty](docs.scipy.org/doc/numpy-1.10.0/reference/generated/numpy.empty.html) array, which may be faster for large arrays. But be careful with unititialized arrays!"
   ]
  },
  {
   "cell_type": "markdown",
   "metadata": {},
   "source": [
    "### 2.2 Generate an array of ones\n",
    "\n",
    "    numpy.ones( shape, dtype=float )\n",
    "\n",
    "As you'd expect, this works just like **numpy.zeros()**."
   ]
  },
  {
   "cell_type": "code",
   "execution_count": 11,
   "metadata": {
    "collapsed": false
   },
   "outputs": [
    {
     "name": "stdout",
     "output_type": "stream",
     "text": [
      "[ 1.  1.  1.  1.  1.]\n"
     ]
    }
   ],
   "source": [
    "# A simple array of floating point ones\n",
    "print np.ones(5)"
   ]
  },
  {
   "cell_type": "code",
   "execution_count": 12,
   "metadata": {
    "collapsed": false
   },
   "outputs": [
    {
     "name": "stdout",
     "output_type": "stream",
     "text": [
      "[[ 1.  1.]\n",
      " [ 1.  1.]]\n"
     ]
    }
   ],
   "source": [
    "# a two-dimensional result\n",
    "print np.ones((2,2))"
   ]
  },
  {
   "cell_type": "code",
   "execution_count": 13,
   "metadata": {
    "collapsed": false
   },
   "outputs": [
    {
     "name": "stdout",
     "output_type": "stream",
     "text": [
      "[[1 1]\n",
      " [1 1]]\n"
     ]
    }
   ],
   "source": [
    "# a two-dimensional result containing integers\n",
    "print np.ones((2,2),dtype=int)"
   ]
  },
  {
   "cell_type": "markdown",
   "metadata": {},
   "source": [
    "### 2.3 Create a range of evenly spaced values, given step size\n",
    "\n",
    "    numpy.arange([start,] stop, [step,] [dtype=None])\n",
    "\n",
    "The **numpy.arange** function returns an array of evenly spaced values within a specified interval. The returned values are on the **half-open** interval [start,stop). An optional _step_ value can also be specified."
   ]
  },
  {
   "cell_type": "code",
   "execution_count": 14,
   "metadata": {
    "collapsed": false
   },
   "outputs": [
    {
     "data": {
      "text/plain": [
       "array([0, 1, 2, 3, 4, 5])"
      ]
     },
     "execution_count": 14,
     "metadata": {},
     "output_type": "execute_result"
    }
   ],
   "source": [
    "# A simple example: integers from 0 to 5:\n",
    "np.arange(6)"
   ]
  },
  {
   "cell_type": "code",
   "execution_count": 15,
   "metadata": {
    "collapsed": false
   },
   "outputs": [
    {
     "data": {
      "text/plain": [
       "array([1, 2, 3, 4, 5])"
      ]
     },
     "execution_count": 15,
     "metadata": {},
     "output_type": "execute_result"
    }
   ],
   "source": [
    "# integers 1 to 5:\n",
    "np.arange(1,6)"
   ]
  },
  {
   "cell_type": "code",
   "execution_count": 16,
   "metadata": {
    "collapsed": false
   },
   "outputs": [
    {
     "data": {
      "text/plain": [
       "array([ 1.,  2.,  3.,  4.,  5.])"
      ]
     },
     "execution_count": 16,
     "metadata": {},
     "output_type": "execute_result"
    }
   ],
   "source": [
    "# floats from 1. to 5.\n",
    "np.arange(1,6,dtype=float)"
   ]
  },
  {
   "cell_type": "code",
   "execution_count": 17,
   "metadata": {
    "collapsed": false
   },
   "outputs": [
    {
     "data": {
      "text/plain": [
       "array([ 2,  4,  6,  8, 10, 12, 14, 16, 18, 20])"
      ]
     },
     "execution_count": 17,
     "metadata": {},
     "output_type": "execute_result"
    }
   ],
   "source": [
    "# Even numbers from 2 to 20\n",
    "np.arange(2,21,2)"
   ]
  },
  {
   "cell_type": "code",
   "execution_count": 18,
   "metadata": {
    "collapsed": false
   },
   "outputs": [
    {
     "data": {
      "text/plain": [
       "array([  0. ,   0.5,   1. ,   1.5,   2. ,   2.5,   3. ,   3.5,   4. ,\n",
       "         4.5,   5. ,   5.5,   6. ,   6.5,   7. ,   7.5,   8. ,   8.5,\n",
       "         9. ,   9.5,  10. ])"
      ]
     },
     "execution_count": 18,
     "metadata": {},
     "output_type": "execute_result"
    }
   ],
   "source": [
    "# Fractional steps can also be specified:\n",
    "np.arange(0,10.1,0.5)"
   ]
  },
  {
   "cell_type": "markdown",
   "metadata": {},
   "source": [
    "Note: the [arange()](http://docs.scipy.org/doc/numpy-1.10.0/reference/generated/numpy.arange.html) documentation suggests using [linspace()](http://docs.scipy.org/doc/numpy-1.10.0/reference/generated/numpy.linspace.html) for fractional step sizes. See below."
   ]
  },
  {
   "cell_type": "markdown",
   "metadata": {},
   "source": [
    "### 2.4 Create a range containing a specified number of evenly spaced values\n",
    "    \n",
    "    numpy.linspace(start, stop, num=50, endpoint=True, retstep=False, dtype=None)\n",
    "\n",
    "The major difference betweel **linspace()** and **arange()** is that the latter allows you to specify the number of steps, rather than the step size. In addition, **linspace()** gives you the option to generate results on either the half-open interval [start,stop) or the **closed** interval [start,stop]."
   ]
  },
  {
   "cell_type": "code",
   "execution_count": 19,
   "metadata": {
    "collapsed": false
   },
   "outputs": [
    {
     "data": {
      "text/plain": [
       "array([-1. , -0.8, -0.6, -0.4, -0.2,  0. ,  0.2,  0.4,  0.6,  0.8,  1. ])"
      ]
     },
     "execution_count": 19,
     "metadata": {},
     "output_type": "execute_result"
    }
   ],
   "source": [
    "# 11 data points from -1.0 to 1.0\n",
    "np.linspace(-1,1,11)"
   ]
  },
  {
   "cell_type": "code",
   "execution_count": 21,
   "metadata": {
    "collapsed": false
   },
   "outputs": [
    {
     "data": {
      "image/png": "[encoded data removed]",
      "text/plain": [
       "<matplotlib.figure.Figure at 0xac58e6cc>"
      ]
     },
     "metadata": {},
     "output_type": "display_data"
    }
   ],
   "source": [
    "# A simple graph of the cube of x, using linspace()\n",
    "\n",
    "import matplotlib.pyplot as plt\n",
    "%matplotlib inline\n",
    "import numpy as np\n",
    "\n",
    "x = np.linspace(-3,3,11)\n",
    "y = [value ** 3 for value in x]\n",
    "\n",
    "plt.plot(x,y)\n",
    "plt.show()"
   ]
  },
  {
   "cell_type": "markdown",
   "metadata": {},
   "source": [
    "I'm sure there are lots of other things that I'm missing here. As I find them, I'll try to keep this notebook updated. -_mb_"
   ]
  }
 ],
 "metadata": {
  "kernelspec": {
   "display_name": "Python 2",
   "language": "python",
   "name": "python2"
  },
  "language_info": {
   "codemirror_mode": {
    "name": "ipython",
    "version": 2
   },
   "file_extension": ".py",
   "mimetype": "text/x-python",
   "name": "python",
   "nbconvert_exporter": "python",
   "pygments_lexer": "ipython2",
   "version": "2.7.11"
  }
 },
 "nbformat": 4,
 "nbformat_minor": 0
}
