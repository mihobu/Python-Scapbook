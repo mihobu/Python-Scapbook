{
 "cells": [
  {
   "cell_type": "code",
   "execution_count": 3,
   "metadata": {},
   "outputs": [],
   "source": [
    "import sys\n",
    "from datetime import datetime"
   ]
  },
  {
   "cell_type": "code",
   "execution_count": 2,
   "metadata": {},
   "outputs": [],
   "source": [
    "def dprint(str, *args):\n",
    "    sys.stdout.writelines([\n",
    "        'DPRINT [{}] '.format(datetime.utcnow().isoformat()),\n",
    "        str.format(*args),\n",
    "    '\\n'\n",
    "    ])\n",
    "    sys.stdout.flush()"
   ]
  },
  {
   "cell_type": "code",
   "execution_count": 4,
   "metadata": {},
   "outputs": [
    {
     "name": "stdout",
     "output_type": "stream",
     "text": [
      "DPRINT [2020-07-17T16:52:19.406714] Hi\n"
     ]
    }
   ],
   "source": [
    "dprint('Hi')"
   ]
  },
  {
   "cell_type": "code",
   "execution_count": 5,
   "metadata": {},
   "outputs": [
    {
     "name": "stdout",
     "output_type": "stream",
     "text": [
      "DPRINT [2020-07-17T16:52:39.554003] Hello, Michael.\n"
     ]
    }
   ],
   "source": [
    "dprint('Hello, {}.', 'Michael')"
   ]
  },
  {
   "cell_type": "code",
   "execution_count": 14,
   "metadata": {},
   "outputs": [],
   "source": [
    "def dprint2(str, *args):\n",
    "    print('DPRINT [{}] '.format(datetime.utcnow().isoformat()) + str.format(*args))"
   ]
  },
  {
   "cell_type": "code",
   "execution_count": 15,
   "metadata": {},
   "outputs": [
    {
     "name": "stdout",
     "output_type": "stream",
     "text": [
      "DPRINT [2020-07-17T17:01:30.166667] Hello, Michael\n"
     ]
    }
   ],
   "source": [
    "dprint2('Hello, {}', 'Michael')"
   ]
  },
  {
   "cell_type": "code",
   "execution_count": null,
   "metadata": {},
   "outputs": [],
   "source": []
  }
 ],
 "metadata": {
  "kernelspec": {
   "display_name": "Python 3",
   "language": "python",
   "name": "python3"
  },
  "language_info": {
   "codemirror_mode": {
    "name": "ipython",
    "version": 3
   },
   "file_extension": ".py",
   "mimetype": "text/x-python",
   "name": "python",
   "nbconvert_exporter": "python",
   "pygments_lexer": "ipython3",
   "version": "3.7.6"
  }
 },
 "nbformat": 4,
 "nbformat_minor": 4
}
