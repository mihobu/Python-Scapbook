{
 "cells": [
  {
   "cell_type": "code",
   "execution_count": 13,
   "metadata": {},
   "outputs": [],
   "source": [
    "import json\n",
    "import sys\n",
    "from datetime import datetime"
   ]
  },
  {
   "cell_type": "code",
   "execution_count": 14,
   "metadata": {},
   "outputs": [],
   "source": [
    "# -----------------------------------------------------------------------------\n",
    "# Send descriptive messages to standard output\n",
    "# -----------------------------------------------------------------------------\n",
    "def dprint(str, *args):\n",
    "    sys.stdout.writelines([\n",
    "        '[{}] '.format(datetime.utcnow().isoformat()),\n",
    "        str.format(*args),\n",
    "        '\\n'\n",
    "    ])\n",
    "    sys.stdout.flush()"
   ]
  },
  {
   "cell_type": "code",
   "execution_count": 15,
   "metadata": {},
   "outputs": [
    {
     "name": "stdout",
     "output_type": "stream",
     "text": [
      "[2020-07-27T15:47:29.287898] Moo 99\n"
     ]
    }
   ],
   "source": [
    "dprint('Moo {}', 99)"
   ]
  },
  {
   "cell_type": "code",
   "execution_count": 26,
   "metadata": {},
   "outputs": [
    {
     "data": {
      "text/plain": [
       "'{\"max_concurrency\": 8, \"generation\": 1}'"
      ]
     },
     "execution_count": 26,
     "metadata": {},
     "output_type": "execute_result"
    }
   ],
   "source": [
    "max_concurrency = 8\n",
    "generation = 1\n",
    "orch_message = json.dumps({'max_concurrency': max_concurrency,'generation': generation})\n",
    "orch_message"
   ]
  },
  {
   "cell_type": "code",
   "execution_count": 19,
   "metadata": {},
   "outputs": [
    {
     "name": "stdout",
     "output_type": "stream",
     "text": [
      "[2020-07-27T15:48:28.691653] sending batch #3 (21 bytes)...\n"
     ]
    }
   ],
   "source": [
    "batch_number = 3\n",
    "current_batch = 'sdlkfjsdlkjsdlkjsdflk'\n",
    "dprint('sending batch #{} ({} bytes)...', batch_number, len(current_batch))"
   ]
  },
  {
   "cell_type": "code",
   "execution_count": 20,
   "metadata": {},
   "outputs": [
    {
     "name": "stdout",
     "output_type": "stream",
     "text": [
      "[2020-07-27T15:54:37.927898] Sending orchestration message #0: >>{\"max_concurrency\": 1, \"generation\": 1}<<\n",
      "[2020-07-27T15:54:37.928898] Sending orchestration message #1: >>{\"max_concurrency\": 1, \"generation\": 1}<<\n"
     ]
    }
   ],
   "source": [
    "num_orch_messages = 2\n",
    "for om in range(num_orch_messages):\n",
    "    # send message to orchestration queue\n",
    "    dprint('Sending orchestration message #{}: >>{}<<', om, orch_message)"
   ]
  },
  {
   "cell_type": "code",
   "execution_count": 27,
   "metadata": {},
   "outputs": [
    {
     "data": {
      "text/plain": [
       "(8, 1)"
      ]
     },
     "execution_count": 27,
     "metadata": {},
     "output_type": "execute_result"
    }
   ],
   "source": [
    "d = json.loads(orch_message)\n",
    "d['max_concurrency'], d['generation']"
   ]
  },
  {
   "cell_type": "code",
   "execution_count": 43,
   "metadata": {},
   "outputs": [
    {
     "name": "stdout",
     "output_type": "stream",
     "text": [
      "1\n"
     ]
    }
   ],
   "source": [
    "#orch_message = '{\"max_concurrency\": 8, \"generation\": 1}'\n",
    "#orch_message = ''\n",
    "orch_message = 'sdlkjdsflkj'\n",
    "try:\n",
    "    d = json.loads(orch_message)\n",
    "except Exception as e:\n",
    "    d = {'max_concurrency':1, generation:1}\n",
    "    \n",
    "m = d['max_concurrency']# if 'max_concurrency' in d else 1\n",
    "print(m)\n",
    "#, d['generation']"
   ]
  },
  {
   "cell_type": "code",
   "execution_count": null,
   "metadata": {},
   "outputs": [],
   "source": []
  },
  {
   "cell_type": "code",
   "execution_count": 5,
   "metadata": {},
   "outputs": [],
   "source": [
    "mydict = {\n",
    "    'a': 'apple',\n",
    "    'j': 'jacks',\n",
    "    'z': ['zebra', 'zoo', 'zenith']\n",
    "}"
   ]
  },
  {
   "cell_type": "code",
   "execution_count": 6,
   "metadata": {},
   "outputs": [
    {
     "data": {
      "text/plain": [
       "'{\"a\": \"apple\", \"j\": \"jacks\", \"z\": [\"zebra\", \"zoo\", \"zenith\"]}'"
      ]
     },
     "execution_count": 6,
     "metadata": {},
     "output_type": "execute_result"
    }
   ],
   "source": [
    "json.dumps(mydict)"
   ]
  },
  {
   "cell_type": "code",
   "execution_count": null,
   "metadata": {},
   "outputs": [],
   "source": []
  }
 ],
 "metadata": {
  "kernelspec": {
   "display_name": "Python 3",
   "language": "python",
   "name": "python3"
  },
  "language_info": {
   "codemirror_mode": {
    "name": "ipython",
    "version": 3
   },
   "file_extension": ".py",
   "mimetype": "text/x-python",
   "name": "python",
   "nbconvert_exporter": "python",
   "pygments_lexer": "ipython3",
   "version": "3.7.6"
  }
 },
 "nbformat": 4,
 "nbformat_minor": 2
}
