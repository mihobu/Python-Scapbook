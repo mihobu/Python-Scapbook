{
 "cells": [
  {
   "cell_type": "markdown",
   "metadata": {},
   "source": [
    "# Comprehensions\n",
    "\n",
    "Comprehensions are constructs that allow sequences to be built from other sequences. Python 2.0 introduced list comprehensions and Python 3.0 comes with dictionary and set comprehensions.\n",
    "\n"
   ]
  },
  {
   "cell_type": "markdown",
   "metadata": {},
   "source": [
    "### List Comprehensions\n",
    "A list comprehension consists of the following parts:\n",
    "\n",
    "* An Input Sequence.\n",
    "* A Variable representing members of the input sequence.\n",
    "* An Optional Predicate expression.\n",
    "* An Output Expression producing elements of the output list from members of the Input Sequence that satisfy the predicate."
   ]
  },
  {
   "cell_type": "code",
   "execution_count": 2,
   "metadata": {},
   "outputs": [
    {
     "data": {
      "text/plain": [
       "['X1', 'X2', 'X3', 'X4', 'X5']"
      ]
     },
     "execution_count": 2,
     "metadata": {},
     "output_type": "execute_result"
    }
   ],
   "source": [
    "# Suppose we want a list of labels of the form X1, X2, X3, ...\n",
    "\n",
    "# One way to do this is to simply hardcode the list:\n",
    "# Obviously, this does not scale well.\n",
    "labels1 = [ 'X1', 'X2', 'X3', 'X4', 'X5' ]\n",
    "labels1"
   ]
  },
  {
   "cell_type": "code",
   "execution_count": 4,
   "metadata": {},
   "outputs": [
    {
     "data": {
      "text/plain": [
       "['X1', 'X2', 'X3', 'X4', 'X5']"
      ]
     },
     "execution_count": 4,
     "metadata": {},
     "output_type": "execute_result"
    }
   ],
   "source": [
    "# We might choose to write a loop:\n",
    "labels2 = []\n",
    "for i in range(1,6):\n",
    "    labels2 += [ 'X{}'.format(i) ]\n",
    "labels2"
   ]
  },
  {
   "cell_type": "code",
   "execution_count": 7,
   "metadata": {},
   "outputs": [
    {
     "data": {
      "text/plain": [
       "['X1', 'X2', 'X3', 'X4', 'X5']"
      ]
     },
     "execution_count": 7,
     "metadata": {},
     "output_type": "execute_result"
    }
   ],
   "source": [
    "# List comprehensions make light work of this:\n",
    "labels3 = [ 'X{}'.format(i) for i in range(1,6) ]\n",
    "labels3"
   ]
  },
  {
   "cell_type": "code",
   "execution_count": 13,
   "metadata": {},
   "outputs": [
    {
     "data": {
      "text/plain": [
       "[1, 9, 16, 49]"
      ]
     },
     "execution_count": 13,
     "metadata": {},
     "output_type": "execute_result"
    }
   ],
   "source": [
    "# We can also include a predicate in order to apply some condition.\n",
    "# Suppose we want to grab (only) the integers from a list and square them:\n",
    "\n",
    "a_list = [1, '6', 3, 'a', 4, 7]\n",
    "squared_ints = [ e**2 for e in a_list if type(e) == int ]\n",
    "squared_ints"
   ]
  },
  {
   "cell_type": "code",
   "execution_count": 17,
   "metadata": {},
   "outputs": [
    {
     "data": {
      "text/plain": [
       "[1, 9, 16, 49]"
      ]
     },
     "execution_count": 17,
     "metadata": {},
     "output_type": "execute_result"
    }
   ],
   "source": [
    "# You COULD do the same thing with a combination of map, filter, and lambda.\n",
    "# However, this is computationally expensive AND hard to remember!\n",
    "squared_ints2 = list(map(lambda e: e**2, filter(lambda e: type(e) == int, a_list)))\n",
    "squared_ints2"
   ]
  },
  {
   "cell_type": "markdown",
   "metadata": {},
   "source": [
    "### Nested comprehensions"
   ]
  },
  {
   "cell_type": "code",
   "execution_count": 22,
   "metadata": {},
   "outputs": [
    {
     "data": {
      "text/plain": [
       "[[1, 0, 0], [0, 1, 0], [0, 0, 1]]"
      ]
     },
     "execution_count": 22,
     "metadata": {},
     "output_type": "execute_result"
    }
   ],
   "source": [
    "# Suppose we want to generate a diagonal matrix:\n",
    "A = [ [ 1, 0, 0 ],\n",
    "      [ 0, 1, 0 ],\n",
    "      [ 0, 0, 1 ] ]\n",
    "A"
   ]
  },
  {
   "cell_type": "code",
   "execution_count": 25,
   "metadata": {},
   "outputs": [
    {
     "data": {
      "text/plain": [
       "[[1, 0, 0], [0, 1, 0], [0, 0, 1]]"
      ]
     },
     "execution_count": 25,
     "metadata": {},
     "output_type": "execute_result"
    }
   ],
   "source": [
    "# Notice that this is just a list of lists.\n",
    "B = [ [ 1 if r == c else 0 for r in range(0,3) ] for c in range(0,3) ]\n",
    "B"
   ]
  },
  {
   "cell_type": "code",
   "execution_count": 27,
   "metadata": {},
   "outputs": [
    {
     "data": {
      "text/plain": [
       "[[1, 0, 0, 0, 0, 0, 0],\n",
       " [0, 1, 0, 0, 0, 0, 0],\n",
       " [0, 0, 1, 0, 0, 0, 0],\n",
       " [0, 0, 0, 1, 0, 0, 0],\n",
       " [0, 0, 0, 0, 1, 0, 0],\n",
       " [0, 0, 0, 0, 0, 1, 0],\n",
       " [0, 0, 0, 0, 0, 0, 1]]"
      ]
     },
     "execution_count": 27,
     "metadata": {},
     "output_type": "execute_result"
    }
   ],
   "source": [
    "# This is easily parameterized:\n",
    "s = 7\n",
    "B = [ [ 1 if r == c else 0 for r in range(0,s) ] for c in range(0,s) ]\n",
    "B"
   ]
  },
  {
   "cell_type": "markdown",
   "metadata": {},
   "source": [
    "### Set comprehensions\n"
   ]
  },
  {
   "cell_type": "code",
   "execution_count": 30,
   "metadata": {},
   "outputs": [
    {
     "data": {
      "text/plain": [
       "['Anna', 'George', 'Michael', 'Michael', 'Anna', 'George']"
      ]
     },
     "execution_count": 30,
     "metadata": {},
     "output_type": "execute_result"
    }
   ],
   "source": [
    "# Suppose we have a list of names:\n",
    "user_list = [ 'ANNA', 'George', 'michael', 'Michael', 'Anna', 'GEOrge' ]\n",
    "\n",
    "# We'd like to normalize this list so that we end up with names that are\n",
    "# appropriately capitalized: [ 'Anna', 'George', 'Michael', ... ]\n",
    "cap_user_list = [ name[0].upper() + name[1:].lower() for name in user_list ]\n",
    "cap_user_list"
   ]
  },
  {
   "cell_type": "code",
   "execution_count": 31,
   "metadata": {},
   "outputs": [
    {
     "data": {
      "text/plain": [
       "{'Anna', 'George', 'Michael'}"
      ]
     },
     "execution_count": 31,
     "metadata": {},
     "output_type": "execute_result"
    }
   ],
   "source": [
    "# By changing the brackets to braces, we can extract the SET of distinct names:\n",
    "user_set = { name[0].upper() + name[1:].lower() for name in user_list }\n",
    "user_set"
   ]
  },
  {
   "cell_type": "markdown",
   "metadata": {},
   "source": [
    "### Dictionary comprehensions"
   ]
  },
  {
   "cell_type": "code",
   "execution_count": 10,
   "metadata": {},
   "outputs": [],
   "source": [
    "# Suppose we have some text...\n",
    "passage = '''\n",
    "Call me Ishmael. Some years ago—never mind how long precisely—having little or \n",
    "no money in my purse, and nothing particular to interest me on shore, I \n",
    "thought I would sail about a little and see the watery part of the world. It \n",
    "is a way I have of driving off the spleen and regulating the circulation. \n",
    "Whenever I find myself growing grim about the mouth; whenever it is a damp, \n",
    "drizzly November in my soul; whenever I find myself involuntarily pausing \n",
    "before coffin warehouses, and bringing up the rear of every funeral I meet; \n",
    "and especially whenever my hypos get such an upper hand of me, that it \n",
    "requires a strong moral principle to prevent me from deliberately stepping \n",
    "into the street, and methodically knocking people's hats off—then, I account \n",
    "it high time to get to sea as soon as I can. This is my substitute for pistol \n",
    "and ball. With a philosophical flourish Cato throws himself upon his sword; I \n",
    "quietly take to the ship. There is nothing surprising in this. If they but \n",
    "knew it, almost all men in their degree, some time or other, cherish very \n",
    "nearly the same feelings towards the ocean with me.\n",
    "'''"
   ]
  },
  {
   "cell_type": "code",
   "execution_count": 13,
   "metadata": {},
   "outputs": [
    {
     "data": {
      "text/plain": [
       "{'a': 57,\n",
       " 'b': 9,\n",
       " 'c': 16,\n",
       " 'd': 21,\n",
       " 'e': 107,\n",
       " 'f': 22,\n",
       " 'g': 24,\n",
       " 'h': 51,\n",
       " 'i': 68,\n",
       " 'j': 0,\n",
       " 'k': 4,\n",
       " 'l': 45,\n",
       " 'm': 30,\n",
       " 'n': 61,\n",
       " 'o': 62,\n",
       " 'p': 25,\n",
       " 'q': 2,\n",
       " 'r': 56,\n",
       " 's': 52,\n",
       " 't': 74,\n",
       " 'u': 26,\n",
       " 'v': 13,\n",
       " 'w': 15,\n",
       " 'x': 0,\n",
       " 'y': 22,\n",
       " 'z': 2}"
      ]
     },
     "execution_count": 13,
     "metadata": {},
     "output_type": "execute_result"
    }
   ],
   "source": [
    "# And we'd like to build a dictionary whose keys are\n",
    "# the 26 (lowercase) english letters, and containing the\n",
    "# number of times each letter appears.\n",
    "from string import ascii_lowercase\n",
    "Z = { k: passage.count(k) for k in ascii_lowercase }\n",
    "Z"
   ]
  },
  {
   "cell_type": "code",
   "execution_count": null,
   "metadata": {},
   "outputs": [],
   "source": []
  },
  {
   "cell_type": "code",
   "execution_count": null,
   "metadata": {},
   "outputs": [],
   "source": []
  }
 ],
 "metadata": {
  "kernelspec": {
   "display_name": "Python 3",
   "language": "python",
   "name": "python3"
  },
  "language_info": {
   "codemirror_mode": {
    "name": "ipython",
    "version": 3
   },
   "file_extension": ".py",
   "mimetype": "text/x-python",
   "name": "python",
   "nbconvert_exporter": "python",
   "pygments_lexer": "ipython3",
   "version": "3.7.3"
  }
 },
 "nbformat": 4,
 "nbformat_minor": 2
}
