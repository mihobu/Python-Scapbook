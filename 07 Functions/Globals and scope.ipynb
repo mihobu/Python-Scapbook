{
 "cells": [
  {
   "cell_type": "code",
   "execution_count": 1,
   "metadata": {},
   "outputs": [],
   "source": [
    "def myFunc(x):\n",
    "    global n\n",
    "    print(x / n)"
   ]
  },
  {
   "cell_type": "code",
   "execution_count": 11,
   "metadata": {},
   "outputs": [],
   "source": [
    "def anotherFunc(y):\n",
    "    global n\n",
    "    n = 12\n",
    "    myFunc(y)"
   ]
  },
  {
   "cell_type": "code",
   "execution_count": 12,
   "metadata": {},
   "outputs": [
    {
     "name": "stdout",
     "output_type": "stream",
     "text": [
      "1.0\n"
     ]
    }
   ],
   "source": [
    "anotherFunc(12)"
   ]
  },
  {
   "cell_type": "code",
   "execution_count": 152,
   "metadata": {},
   "outputs": [],
   "source": [
    "def dprint(str, *args):\n",
    "    print('DPRINT ' + str.format(*args))"
   ]
  },
  {
   "cell_type": "code",
   "execution_count": 9,
   "metadata": {},
   "outputs": [],
   "source": [
    "def anotherFunc(x=333, y=444, relative=False):\n",
    "    return x if relative else y"
   ]
  },
  {
   "cell_type": "code",
   "execution_count": 10,
   "metadata": {},
   "outputs": [
    {
     "data": {
      "text/plain": [
       "444"
      ]
     },
     "execution_count": 10,
     "metadata": {},
     "output_type": "execute_result"
    }
   ],
   "source": [
    "anotherFunc()"
   ]
  },
  {
   "cell_type": "code",
   "execution_count": 11,
   "metadata": {},
   "outputs": [
    {
     "data": {
      "text/plain": [
       "444"
      ]
     },
     "execution_count": 11,
     "metadata": {},
     "output_type": "execute_result"
    }
   ],
   "source": [
    "anotherFunc(relative=False)"
   ]
  },
  {
   "cell_type": "code",
   "execution_count": 12,
   "metadata": {},
   "outputs": [
    {
     "data": {
      "text/plain": [
       "333"
      ]
     },
     "execution_count": 12,
     "metadata": {},
     "output_type": "execute_result"
    }
   ],
   "source": [
    "anotherFunc(relative=True)"
   ]
  },
  {
   "cell_type": "code",
   "execution_count": 19,
   "metadata": {},
   "outputs": [],
   "source": [
    "import numpy as np"
   ]
  },
  {
   "cell_type": "code",
   "execution_count": 255,
   "metadata": {
    "scrolled": true
   },
   "outputs": [
    {
     "name": "stdout",
     "output_type": "stream",
     "text": [
      "2,944,000 rows\n",
      "DPRINT Dataset is larger than 1,000,000 rows. Sampling 33.97%...\n",
      "DPRINT New sample contains 1,000,000 rows.\n"
     ]
    }
   ],
   "source": [
    "MIN_SAMPLE = 1000000 # must use at least 1 million rows if random sampling is used\n",
    "num_rows = np.random.randint(10000) * 1000 + 500000\n",
    "print('{:,d} rows'.format(num_rows))\n",
    "if num_rows <= MIN_SAMPLE:\n",
    "    dprint('{:,d} rows -> no sample', num_rows)\n",
    "else:\n",
    "    sample_frac = max(MIN_SAMPLE/num_rows, 0.10)\n",
    "    sample_size = int(num_rows * sample_frac)\n",
    "    dprint('Dataset is larger than {:,d} rows. Sampling {:.2f}%...', MIN_SAMPLE, sample_frac*100.0)\n",
    "    dprint('New sample contains {:,d} rows.', int(num_rows * sample_frac))"
   ]
  },
  {
   "cell_type": "code",
   "execution_count": null,
   "metadata": {},
   "outputs": [],
   "source": []
  }
 ],
 "metadata": {
  "kernelspec": {
   "display_name": "Python 3",
   "language": "python",
   "name": "python3"
  },
  "language_info": {
   "codemirror_mode": {
    "name": "ipython",
    "version": 3
   },
   "file_extension": ".py",
   "mimetype": "text/x-python",
   "name": "python",
   "nbconvert_exporter": "python",
   "pygments_lexer": "ipython3",
   "version": "3.7.7"
  }
 },
 "nbformat": 4,
 "nbformat_minor": 4
}
