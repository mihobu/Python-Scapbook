{
 "cells": [
  {
   "cell_type": "markdown",
   "metadata": {},
   "source": [
    "# Formatting Strings\n",
    "\n",
    "### References\n",
    "* [Format String Syntax](https://docs.python.org/3/library/string.html#format-string-syntax)\n",
    "* [Format Specification Mini-language](https://docs.python.org/3/library/string.html#format-specification-mini-language)"
   ]
  },
  {
   "cell_type": "code",
   "execution_count": 3,
   "metadata": {},
   "outputs": [],
   "source": [
    "import random"
   ]
  },
  {
   "cell_type": "code",
   "execution_count": 4,
   "metadata": {},
   "outputs": [
    {
     "name": "stdout",
     "output_type": "stream",
     "text": [
      "647084427\n",
      "647,084,427\n"
     ]
    }
   ],
   "source": [
    "x = random.randint(1000,1000000000)\n",
    "\n",
    "# No special formatting\n",
    "print('{}'.format(x))\n",
    "\n",
    "# Format large integers with commas\n",
    "print('{:,d}'.format(x))"
   ]
  },
  {
   "cell_type": "code",
   "execution_count": 7,
   "metadata": {},
   "outputs": [
    {
     "name": "stdout",
     "output_type": "stream",
     "text": [
      "This is\n",
      "a multiline string\n",
      "with 647,084,427 ideas.\n",
      "\n"
     ]
    }
   ],
   "source": [
    "# You can format multi-line strings too\n",
    "str = '''This is\n",
    "a multiline string\n",
    "with {:,d} ideas.\n",
    "'''.format(x)\n",
    "\n",
    "print(str)"
   ]
  },
  {
   "cell_type": "code",
   "execution_count": null,
   "metadata": {},
   "outputs": [],
   "source": []
  }
 ],
 "metadata": {
  "kernelspec": {
   "display_name": "Python 3",
   "language": "python",
   "name": "python3"
  },
  "language_info": {
   "codemirror_mode": {
    "name": "ipython",
    "version": 3
   },
   "file_extension": ".py",
   "mimetype": "text/x-python",
   "name": "python",
   "nbconvert_exporter": "python",
   "pygments_lexer": "ipython3",
   "version": "3.7.7"
  }
 },
 "nbformat": 4,
 "nbformat_minor": 4
}
