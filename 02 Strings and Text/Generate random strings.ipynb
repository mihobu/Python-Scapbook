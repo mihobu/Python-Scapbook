{
 "cells": [
  {
   "cell_type": "markdown",
   "metadata": {},
   "source": [
    "# Generate random strings\n",
    "\n",
    "Here are a few helper functions to produce different kinds of random strings"
   ]
  },
  {
   "cell_type": "code",
   "execution_count": 120,
   "metadata": {},
   "outputs": [],
   "source": [
    "import json\n",
    "import re\n",
    "from random import choice, randint\n",
    "from string import ascii_lowercase as LC, digits as DG\n",
    "from urllib.request import urlopen"
   ]
  },
  {
   "cell_type": "markdown",
   "metadata": {},
   "source": [
    "### randomString(_stringLength=8_)\n",
    "\n",
    "#### Returns:\n",
    "\n",
    "A string containing a mix of randomly selected lowercase letters and digits\n",
    "\n",
    "#### Parameters:\n",
    "\n",
    "* **stringLength** (int) number of characters to include in the generated string (default=8)"
   ]
  },
  {
   "cell_type": "code",
   "execution_count": 136,
   "metadata": {},
   "outputs": [],
   "source": [
    "from random import choice\n",
    "from string import ascii_lowercase as LC, digits as DG\n",
    "\n",
    "# Generate a string of random lowercase letters and digits\n",
    "# Args: stringLength: length of generated string (default = 8)\n",
    "def randomString(stringLength=8):\n",
    "    return ''.join(choice(LC+DG) for i in range(stringLength))"
   ]
  },
  {
   "cell_type": "code",
   "execution_count": 10,
   "metadata": {},
   "outputs": [
    {
     "name": "stdout",
     "output_type": "stream",
     "text": [
      "Default: rvy41bm9\n",
      "Len=18 : 9ssltrt7dx0qp4zmr7\n"
     ]
    }
   ],
   "source": [
    "print('Default:', randomString())\n",
    "print('Len=18 :', randomString(18))"
   ]
  },
  {
   "cell_type": "markdown",
   "metadata": {},
   "source": [
    "### randomNtets(shape=None, _*Nargs_)\n",
    "\n",
    "#### Returns:\n",
    "\n",
    "A string containing multiple N-tets (short random character/digit strings) separated by dashes\n",
    "\n",
    "#### Parameters:\n",
    "\n",
    "* **shape** (tuple) If shape is specified, it must be a 2-tuple, specifying the number of N-tets and the size of each.\n",
    "  (Ignored if _any_ Nargs are specified.\n",
    "* **\\*Nargs** One or more integers, specifying the lengths of each N-tet.\n",
    "\n",
    "Note: If neither shape nor Nargs are specified, then 5 quintets (strings of 5) are generated."
   ]
  },
  {
   "cell_type": "code",
   "execution_count": 204,
   "metadata": {},
   "outputs": [],
   "source": [
    "# Generate a GUID-like string having N-tets (mini strings N characters long)\n",
    "# separated by dashes (e.g. ab338-bdkh9-dkwoz-z9oek-39knd)\n",
    "# Args: N is a list/tuple containing the lengths of each generated N-tet\n",
    "def randomNtets(*Nargs):\n",
    "    if len(Nargs) == 0:\n",
    "        N = [5,5,5,5,5]\n",
    "    elif len(Nargs) == 2:\n",
    "        N = [Nargs[1] for i in range(Nargs[0])]\n",
    "    else:\n",
    "        N = Nargs\n",
    "    return '-'.join([''.join(choice(LC+DG) for i in range(n)) for n in N])"
   ]
  },
  {
   "cell_type": "code",
   "execution_count": 205,
   "metadata": {},
   "outputs": [
    {
     "data": {
      "text/plain": [
       "'fov7l-7o5xe-2q3li-juei1-2y6fg'"
      ]
     },
     "execution_count": 205,
     "metadata": {},
     "output_type": "execute_result"
    }
   ],
   "source": [
    "randomNtets()"
   ]
  },
  {
   "cell_type": "code",
   "execution_count": 206,
   "metadata": {},
   "outputs": [
    {
     "data": {
      "text/plain": [
       "'59z-glm-ie5-z83'"
      ]
     },
     "execution_count": 206,
     "metadata": {},
     "output_type": "execute_result"
    }
   ],
   "source": [
    "randomNtets(4,3)"
   ]
  },
  {
   "cell_type": "code",
   "execution_count": 213,
   "metadata": {},
   "outputs": [
    {
     "name": "stdout",
     "output_type": "stream",
     "text": [
      "Default   : gwb9y-zz992-hx35h-vjxcc-3sakt\n",
      "3 x 5     : e6yrf-ykhuo-bfu4j\n",
      "4 x 4     : t6tf-ago2-wcqz-nka7\n",
      "3-5-3     : bpd-krm8u-0fi\n",
      "3-3-4     : w60-mj3-kwgu\n",
      "1-5-5-1   : 7-c4v7r-qwygf-z\n"
     ]
    }
   ],
   "source": [
    "print('Default   :', randomNtets())\n",
    "print('3 x 5     :', randomNtets(3,5))\n",
    "print('4 x 4     :', randomNtets(4,4))\n",
    "print('3-5-3     :', randomNtets(3,5,3))\n",
    "print('3-3-4     :', randomNtets(3,3,4))\n",
    "print('1-5-5-1   :', randomNtets(1,5,5,1))"
   ]
  },
  {
   "cell_type": "raw",
   "metadata": {},
   "source": [
    "# Get a list of English words (CSV list)\n",
    "with urlopen('https://github.com/dwyl/english-words/raw/master/words_alpha.txt') as f:\n",
    "    words = f.read().decode('utf-8').split()"
   ]
  },
  {
   "cell_type": "code",
   "execution_count": 131,
   "metadata": {},
   "outputs": [],
   "source": [
    "# Get English words (as JSON)\n",
    "with urlopen('https://github.com/dwyl/english-words/raw/master/words_dictionary.json') as f:\n",
    "    words = json.loads(f.read().decode('utf-8')).keys()"
   ]
  },
  {
   "cell_type": "code",
   "execution_count": 133,
   "metadata": {},
   "outputs": [],
   "source": [
    "def randomWordString(numWords=5, sep='', minLength=3, maxLength=8):\n",
    "    p = re.compile('^[a-z]{{{},{}}}$'.format(minLength,maxLength))\n",
    "    wf = [ w for w in words if p.match(w) ]    \n",
    "    return sep.join(choice(wf) for i in range(numWords))"
   ]
  },
  {
   "cell_type": "code",
   "execution_count": 135,
   "metadata": {},
   "outputs": [
    {
     "name": "stdout",
     "output_type": "stream",
     "text": [
      "Default         : yemseltrameledalmainehydatoidsnowworm\n",
      "With separator  : penitent/lucerne/osset/fraena/inconnu\n",
      "Short words only: taha-luny-esca-tivy-arad\n",
      "Long words      : malarias-decreeing-subroutine-downhill-preobediently\n"
     ]
    }
   ],
   "source": [
    "print('Default         :', randomWordString())\n",
    "print('With separator  :', randomWordString(sep='/'))\n",
    "print('Short words only:', randomWordString(minLength=2, maxLength=4, sep='-'))\n",
    "print('Long words      :',randomWordString(sep='-', minLength=8, maxLength=16))"
   ]
  }
 ],
 "metadata": {
  "kernelspec": {
   "display_name": "Python 3",
   "language": "python",
   "name": "python3"
  },
  "language_info": {
   "codemirror_mode": {
    "name": "ipython",
    "version": 3
   },
   "file_extension": ".py",
   "mimetype": "text/x-python",
   "name": "python",
   "nbconvert_exporter": "python",
   "pygments_lexer": "ipython3",
   "version": "3.7.7"
  }
 },
 "nbformat": 4,
 "nbformat_minor": 2
}
