{
 "cells": [
  {
   "cell_type": "code",
   "execution_count": 1,
   "metadata": {},
   "outputs": [],
   "source": [
    "import re\n",
    "\n",
    "from random import choice\n",
    "from string import ascii_lowercase as LC, digits as DG\n"
   ]
  },
  {
   "cell_type": "code",
   "execution_count": 34,
   "metadata": {},
   "outputs": [],
   "source": [
    "tables = ['table{}'.format(i) for i in range(10)]\n",
    "objects = ['{:06d}_0'.format(i) for i in range(20)]\n",
    "\n",
    "contents = ['schema/{}/{}'.format(t,o) for o in objects for t in tables]\n",
    "contents += ['schema/{}_$folder$'.format(t) for t in tables]\n",
    "\n",
    "contents.sort()"
   ]
  },
  {
   "cell_type": "code",
   "execution_count": 49,
   "metadata": {},
   "outputs": [
    {
     "data": {
      "text/plain": [
       "re.compile(r'hi$', re.UNICODE)"
      ]
     },
     "execution_count": 49,
     "metadata": {},
     "output_type": "execute_result"
    }
   ],
   "source": [
    "my_pat = re.compile('{}$'.format('hi'))\n",
    "my_pat"
   ]
  },
  {
   "cell_type": "code",
   "execution_count": 45,
   "metadata": {},
   "outputs": [
    {
     "name": "stdout",
     "output_type": "stream",
     "text": [
      "schema.table0\n",
      "schema.table1\n",
      "schema.table2\n",
      "schema.table3\n",
      "schema.table4\n",
      "schema.table5\n",
      "schema.table6\n",
      "schema.table7\n",
      "schema.table8\n",
      "schema.table9\n"
     ]
    }
   ],
   "source": [
    "folder_pat = re.compile(r'([^/]+)/([^/]+)_\\$folder\\$$')\n",
    "for c in contents:\n",
    "    match = folder_pat.search(c)\n",
    "    if match:\n",
    "        schema = match.group(1)\n",
    "        table = match.group(2)\n",
    "        print('{}.{}'.format(schema, table))"
   ]
  },
  {
   "cell_type": "code",
   "execution_count": 6,
   "metadata": {},
   "outputs": [],
   "source": [
    "\n",
    "# Generate a string of random lowercase letters and digits\n",
    "# Args: stringLength: length of generated string (default = 8)\n",
    "def randomString(stringLength=8):\n",
    "    return ''.join(choice(LC+DG) for i in range(stringLength))\n",
    "\n",
    "def randomPath():\n",
    "    return '/'.join([randomString(4), randomString(4), randomString(4)])"
   ]
  },
  {
   "cell_type": "code",
   "execution_count": 7,
   "metadata": {},
   "outputs": [
    {
     "data": {
      "text/plain": [
       "['opki/d1uu/hqqc',\n",
       " '1fyx/6t9g/twwo',\n",
       " 'yrrs/0whp/b9eu',\n",
       " 'cu42/ywm4/bv5f',\n",
       " 'o0y7/pmzz/6dq1',\n",
       " '71bv/qp43/5fnk',\n",
       " 'u9kh/zpyk/gpnt',\n",
       " '23oc/wm2j/vnyd',\n",
       " 'd5n0/gq41/h8xw',\n",
       " 'njhw/kyvu/i0ua',\n",
       " 'lx57/528s/hvtz',\n",
       " 'jpbd/95dl/x0hp',\n",
       " '2vev/icpa/vhlx',\n",
       " 'yeg2/o9ft/ygrr',\n",
       " 'iumn/ggyx/hdn2',\n",
       " 'c33s/drve/tfde',\n",
       " 'tqwh/9g4j/ljxr',\n",
       " '4wl1/l4wn/faoy',\n",
       " 'flta/k7k9/gahf',\n",
       " '44zl/r3f5/veej',\n",
       " '7kpu/n3to/hjdd',\n",
       " '6hfk/i9ip/zvfb',\n",
       " '83eh/9rh6/olw7',\n",
       " '327q/y2z9/5q8c',\n",
       " '7hqm/q1c9/xtq1',\n",
       " 'dkh9/69sw/9oxg',\n",
       " '87c9/unut/hzy5',\n",
       " '6zrs/lkfm/f424',\n",
       " 'xbdg/q6y6/om3e',\n",
       " 'zerj/d4pz/5f5x',\n",
       " '0li7/rkux/zmog',\n",
       " 'jj8q/66hn/6zr3',\n",
       " 'h7f2/ei50/jbkr',\n",
       " 't0jo/tn4i/dl7a',\n",
       " '7gig/qq2d/m7rb',\n",
       " 'v7o3/tjxe/z7ze',\n",
       " 'mdrk/s3w2/x72l',\n",
       " '3m8n/qd1g/7c6n',\n",
       " 'eegj/mvcy/b0dp',\n",
       " 'lcbp/kwjl/q56a',\n",
       " 'xqq8/25yq/033a',\n",
       " 'uvip/85cf/lm8f',\n",
       " 'ykam/tbdv/50p4',\n",
       " 'qlnm/jdaz/texs',\n",
       " '528w/2qxc/k2ew',\n",
       " 'q8ju/52s1/qi9y',\n",
       " 'mek2/p2sv/yac1',\n",
       " 'ree9/smhr/tvd5',\n",
       " 'vhs4/yppv/44br',\n",
       " 'qtly/j1ey/ojh3',\n",
       " 'u07k/h076/jcgv',\n",
       " 'qpgc/cffh/210h',\n",
       " '188s/nx9o/yo9o',\n",
       " '7ruo/9151/5wqc',\n",
       " 'u4bh/r75e/5ifs',\n",
       " 'sd7t/bms6/kys2',\n",
       " 'pqg3/jgjn/06e4',\n",
       " '1uti/xi8c/pni5',\n",
       " 'verd/af59/4kxm',\n",
       " 'pxft/udev/hawb',\n",
       " 'jotv/p6zg/iz85',\n",
       " 'f06d/aelb/n31q',\n",
       " 'k8nk/jlgr/kmh4',\n",
       " 'n0fv/udrk/6w80',\n",
       " 'xkrs/kla3/sc2c',\n",
       " 'ur10/a3oz/e60n',\n",
       " 'mu2m/exqh/58va',\n",
       " 'uz6n/qnew/0fos',\n",
       " 'ex3a/cdi9/pqh7',\n",
       " 'mln8/qtsk/buxb',\n",
       " '7itf/chm8/k3fu',\n",
       " '07tv/ixn9/5r9x',\n",
       " 'ri0c/ikh8/8dwg',\n",
       " '1wpa/fha3/wstf',\n",
       " 'rt19/a6lg/ha92',\n",
       " '28on/d4ev/noaf',\n",
       " 'zab6/4s93/ugsg',\n",
       " 'adk2/hypr/smvz',\n",
       " 'is0i/kjgv/gfnj',\n",
       " 'w5o0/8rwo/e8ll',\n",
       " 'q0rd/y2ju/368c',\n",
       " 'fark/m98g/nf8m',\n",
       " 'knv0/ea94/itz1',\n",
       " 'p2va/qcbw/dncb',\n",
       " 'i8ng/s0uj/slg6',\n",
       " 'cyfp/gelw/uf4d',\n",
       " 'cz7c/l79d/ims4',\n",
       " 'ls2k/6ygr/2hyi',\n",
       " '9wqh/2jst/x4le',\n",
       " 'xydp/jeki/oos6',\n",
       " '6pfs/1m1n/78ex',\n",
       " 'nhgw/65x3/0kmq',\n",
       " 'ywhp/aypt/tb6d',\n",
       " 'htgk/xlye/fi7p',\n",
       " 'vj1i/86c4/jm0y',\n",
       " '194r/yy51/47d1',\n",
       " '9m5v/b49a/oxd3',\n",
       " '5dt3/q93n/xuln',\n",
       " '0sd3/uhia/vnnu',\n",
       " 'uztq/4fay/2sz6',\n",
       " 'rrgq/3h97/5t38',\n",
       " 'rp4t/vpgy/14yr',\n",
       " 'z482/x7mg/rzd0',\n",
       " 'ca9d/3a6k/gyh1',\n",
       " 'wqj9/xwjh/jvq4',\n",
       " 'kewa/nfkb/76a2',\n",
       " '839p/7vlk/uveq',\n",
       " 'mt18/bxn5/zaae',\n",
       " '4rkq/gm9p/6ch8',\n",
       " 'ja4m/6961/ipss',\n",
       " 'a255/xxuq/tmbl',\n",
       " 'kj9d/hb8n/h5q5',\n",
       " 'lgg9/wgef/mn3p',\n",
       " 'awu5/lwmm/9j4t',\n",
       " 'ldor/gwus/kqmn',\n",
       " 'nq4f/52hv/akrl',\n",
       " 'j8ny/afsh/ekeq',\n",
       " 'j6oe/buss/n3j5',\n",
       " 'mz3w/5mqm/azdp',\n",
       " 'zexa/1ulb/5x5g',\n",
       " '78pp/ld75/rhiw',\n",
       " '8v83/gwav/ipvs',\n",
       " '756i/v4rp/kglf',\n",
       " 'nldj/rlal/tvck',\n",
       " 't7le/kexa/5y2h',\n",
       " '5rbp/gnzc/esqe',\n",
       " 'wdfp/6g14/od6e',\n",
       " '2a88/m0i6/zavw',\n",
       " 'qs1w/k5w6/n953',\n",
       " 'qc21/8k9c/1aj1',\n",
       " '7far/pmmu/53el',\n",
       " 'oofz/31hf/gity',\n",
       " 'id32/cfdm/4ydt',\n",
       " 'lk5t/co8k/hr58',\n",
       " '2xfu/f2dd/jsoq',\n",
       " 'lw60/cu0i/126j',\n",
       " 'b3f1/nlwn/ntrh',\n",
       " 'kfj0/8fat/m5q9',\n",
       " 'ydp9/u5rq/qzz9',\n",
       " 'rzjv/nh1c/d0rs',\n",
       " 'qxl1/q72r/vdto',\n",
       " '9fax/xyst/7ga8',\n",
       " 'ce7b/a8ve/nqil',\n",
       " 'pc6g/dj9s/x4ng',\n",
       " '8e04/h9oc/wys5',\n",
       " 'apwj/s7yg/87mj',\n",
       " 'i4eu/ukcl/lk86',\n",
       " 'vtbc/chkw/vlxj',\n",
       " 'gu5a/75x4/78wf',\n",
       " 'qyhp/2744/7j45',\n",
       " 'uljq/0xex/l4q5',\n",
       " 'ag8v/hvi9/0p2k',\n",
       " 'pn7j/39o3/7a76',\n",
       " 'uspd/ofpi/zfh9',\n",
       " 'a96e/q5bg/bzgq',\n",
       " 'a6un/1kbv/9pqr',\n",
       " 'pp1a/9gv9/etw1',\n",
       " 'ehn1/7nw1/774l',\n",
       " '7ka8/gx23/nc9p',\n",
       " 'mm2s/gywi/xbfr',\n",
       " 'rpxi/zasg/tuuj',\n",
       " 'yhxo/xc2d/nrwz',\n",
       " '7wue/lu8m/nowz',\n",
       " 'jw4p/i86z/243w',\n",
       " 'm7ot/pr44/ac2y',\n",
       " 'rxiq/z9a9/jv3f',\n",
       " 'zqah/qgx9/3bl4',\n",
       " 'n1vn/d2fx/tcku',\n",
       " '47zn/o4lv/ci2i',\n",
       " 'l14x/7w6q/wu9q',\n",
       " 'sn93/knit/ieiz',\n",
       " '6c76/ed7g/29sr',\n",
       " 'sfwj/q486/pf31',\n",
       " 'spta/9l8h/19iz',\n",
       " 'azj8/gpjf/4i6i',\n",
       " 'a7mg/yi2b/xa8r',\n",
       " '1egi/92b3/vhaq',\n",
       " '2tuw/969s/fkn0',\n",
       " '6fme/z7rn/80xx',\n",
       " 'sc45/zn6g/vs5k',\n",
       " 'obeu/2z4t/u8q5',\n",
       " '8t58/w2i5/p6pn',\n",
       " 'gmc6/mz7d/v42x',\n",
       " '9nxp/yc8q/o0ee',\n",
       " 'dwae/lywb/ra7e',\n",
       " '4lps/7zy4/nbop',\n",
       " '7mcp/0ttq/cejh',\n",
       " '5wo8/iyxc/p3hj',\n",
       " '2eop/cmz3/shqh',\n",
       " '15z2/it8h/386n',\n",
       " 'rdrs/jwij/xz3i',\n",
       " 'fzv9/6jzj/341w',\n",
       " 'hq8g/azdr/ry5s',\n",
       " 'ggim/q7rs/j55d',\n",
       " 'uyao/u3nf/wibl',\n",
       " 'o3by/1b84/83op',\n",
       " '2jv5/oz4p/kfb0',\n",
       " 'gyjt/46iw/r1yj',\n",
       " 'scvg/fdpu/as62',\n",
       " 'yaup/9dyg/44y5']"
      ]
     },
     "execution_count": 7,
     "metadata": {},
     "output_type": "execute_result"
    }
   ],
   "source": [
    "[randomPath() for i in range(200)]"
   ]
  },
  {
   "cell_type": "code",
   "execution_count": 3,
   "metadata": {},
   "outputs": [
    {
     "data": {
      "text/plain": [
       "'s3://prod-dagobah-mh-sites/mhc-sandbox/datalake/raw/mhc/export_raw_qnxt_edw/w_qnxt_actionreason_ds/'"
      ]
     },
     "execution_count": 3,
     "metadata": {},
     "output_type": "execute_result"
    }
   ],
   "source": [
    "schema = 'export_raw_qnxt_edw'\n",
    "table = 'w_qnxt_actionreason_ds'\n",
    "s3loc = 's3://prod-dagobah-mh-sites/mhc-sandbox/datalake/raw/mhc/{}/{}/'.format(schema, table)\n",
    "s3loc"
   ]
  },
  {
   "cell_type": "code",
   "execution_count": 4,
   "metadata": {},
   "outputs": [
    {
     "data": {
      "text/plain": [
       "'s3://prod-dagobah-mh-util/deequ/mcc-profiles/export_raw_qnxt_edw/w_qnxt_actionreason_ds.csv'"
      ]
     },
     "execution_count": 4,
     "metadata": {},
     "output_type": "execute_result"
    }
   ],
   "source": [
    "s3profile = 's3://prod-dagobah-mh-util/deequ/mcc-profiles/{}/{}.csv'.format(schema, table)\n",
    "s3profile"
   ]
  },
  {
   "cell_type": "code",
   "execution_count": 2,
   "metadata": {},
   "outputs": [],
   "source": [
    "jobname = 'siuml-transform-claim-lines-2019-03-18-13-21-40'"
   ]
  },
  {
   "cell_type": "code",
   "execution_count": 3,
   "metadata": {},
   "outputs": [
    {
     "name": "stdout",
     "output_type": "stream",
     "text": [
      "yes\n",
      "no\n"
     ]
    }
   ],
   "source": [
    "# A simple match\n",
    "if re.match('^siuml', jobname):\n",
    "    print('yes')\n",
    "else:\n",
    "    print('no')\n",
    "\n",
    "if re.match('^scod', jobname):\n",
    "    print('yes')\n",
    "else:\n",
    "    print('no')\n"
   ]
  },
  {
   "cell_type": "code",
   "execution_count": 4,
   "metadata": {},
   "outputs": [],
   "source": [
    "m = re.match('^siuml-transform-(.+)\\-(\\d\\d\\d\\d-\\d\\d-\\d\\d-\\d\\d-\\d\\d-\\d\\d)$', jobname)\n",
    "if m:\n",
    "    p = m.group(1)\n",
    "    ts = m.group(2)\n",
    "else:\n",
    "    raise Exception"
   ]
  },
  {
   "cell_type": "code",
   "execution_count": 20,
   "metadata": {},
   "outputs": [
    {
     "name": "stdout",
     "output_type": "stream",
     "text": [
      "pipeline: claim-lines\n",
      "ts: 2019-03-18-13-21-40\n"
     ]
    }
   ],
   "source": [
    "print('pipeline: {}'.format(p))\n",
    "print('ts: {}'.format(ts))"
   ]
  },
  {
   "cell_type": "code",
   "execution_count": 5,
   "metadata": {},
   "outputs": [
    {
     "ename": "Exception",
     "evalue": "Invalid pipeline",
     "output_type": "error",
     "traceback": [
      "\u001b[1;31m---------------------------------------------------------------------------\u001b[0m",
      "\u001b[1;31mException\u001b[0m                                 Traceback (most recent call last)",
      "\u001b[1;32m<ipython-input-5-8e9e0f3764ec>\u001b[0m in \u001b[0;36m<module>\u001b[1;34m\u001b[0m\n\u001b[1;32m----> 1\u001b[1;33m \u001b[1;32mraise\u001b[0m \u001b[0mException\u001b[0m\u001b[1;33m(\u001b[0m\u001b[1;34m'Invalid pipeline'\u001b[0m\u001b[1;33m)\u001b[0m\u001b[1;33m\u001b[0m\u001b[0m\n\u001b[0m",
      "\u001b[1;31mException\u001b[0m: Invalid pipeline"
     ]
    }
   ],
   "source": [
    "raise Exception('Invalid pipeline')"
   ]
  },
  {
   "cell_type": "code",
   "execution_count": 55,
   "metadata": {},
   "outputs": [],
   "source": [
    "SCHEMA_PREFIX = {\n",
    "    'export_raw_aux': 'datalake/raw/mhc/export_raw_aux',\n",
    "    'export_raw_casetrakker_edw': 'datalake/raw/mhc/export_raw_casetrakker_edw',\n",
    "    'export_raw_qnxt_edw': 'datalake/raw/mhc/export_raw_qnxt_edw',\n",
    "    'raw_casetrakker_edw': 'datalake/raw/mhc/raw_casetrakker_edw',\n",
    "    'raw_qnxt_edw': 'datalake/raw/mhc/raw_qnxt_edw'\n",
    "}"
   ]
  },
  {
   "cell_type": "code",
   "execution_count": 57,
   "metadata": {},
   "outputs": [
    {
     "name": "stdout",
     "output_type": "stream",
     "text": [
      "datalake/raw/mhc/export_raw_aux\n",
      "datalake/raw/mhc/export_raw_casetrakker_edw\n",
      "datalake/raw/mhc/export_raw_qnxt_edw\n",
      "datalake/raw/mhc/raw_casetrakker_edw\n",
      "datalake/raw/mhc/raw_qnxt_edw\n"
     ]
    }
   ],
   "source": [
    "for schema, s3prefix in SCHEMA_PREFIX.items():\n",
    "    print(s3prefix)"
   ]
  },
  {
   "cell_type": "code",
   "execution_count": null,
   "metadata": {},
   "outputs": [],
   "source": []
  }
 ],
 "metadata": {
  "kernelspec": {
   "display_name": "Python 3",
   "language": "python",
   "name": "python3"
  },
  "language_info": {
   "codemirror_mode": {
    "name": "ipython",
    "version": 3
   },
   "file_extension": ".py",
   "mimetype": "text/x-python",
   "name": "python",
   "nbconvert_exporter": "python",
   "pygments_lexer": "ipython3",
   "version": "3.7.7"
  }
 },
 "nbformat": 4,
 "nbformat_minor": 2
}
